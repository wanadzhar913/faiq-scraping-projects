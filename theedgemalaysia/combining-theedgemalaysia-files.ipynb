{
 "cells": [
  {
   "cell_type": "code",
   "execution_count": 2,
   "metadata": {},
   "outputs": [],
   "source": [
    "import pandas as pd"
   ]
  },
  {
   "cell_type": "code",
   "execution_count": 6,
   "metadata": {},
   "outputs": [
    {
     "name": "stdout",
     "output_type": "stream",
     "text": [
      "Shape of dataset in batch 1: (104551, 4)\n",
      "Shape of dataset in batch 2: (41864, 4)\n",
      "Shape of dataset in batch 3: (45283, 4)\n",
      "Shape of dataset in batch 4: (47891, 4)\n",
      "Shape of dataset in batch 5: (143846, 4)\n",
      "Shape of dataset in batch 6: (30833, 4)\n",
      "Shape of final concatenated dataset: (414268, 4)\n"
     ]
    }
   ],
   "source": [
    "datasets = [\n",
    "    'theedgemalaysia--complete-batch-1-8.parquet',\n",
    "    'theedgemalaysia--complete-batch-9.parquet',\n",
    "    'theedgemalaysia--complete-batch-10.parquet',\n",
    "    'theedgemalaysia--complete-batch-11.parquet',\n",
    "    'theedgemalaysia--complete-batch-12-13.parquet',\n",
    "    'theedgemalaysia--complete-batch-14.parquet',\n",
    "]\n",
    "\n",
    "cleaned_data = []\n",
    "for i, data in enumerate(datasets):\n",
    "    df = pd.read_parquet(data)\n",
    "    df = df.loc[df['content'] != \"\"]\n",
    "    print(f\"Shape of dataset in batch {i+1}: {df.shape}\")\n",
    "    cleaned_data.append(df)\n",
    "\n",
    "concatenated_df = pd.concat(cleaned_data)\n",
    "print(f\"Shape of final concatenated dataset: {concatenated_df.shape}\")\n",
    "concatenated_df.to_parquet(\"theedgemalaysia--complete-batch-1-14.parquet\")"
   ]
  },
  {
   "cell_type": "code",
   "execution_count": 3,
   "metadata": {},
   "outputs": [
    {
     "data": {
      "text/plain": [
       "Index(['url', 'headline', 'language', 'content'], dtype='object')"
      ]
     },
     "execution_count": 3,
     "metadata": {},
     "output_type": "execute_result"
    }
   ],
   "source": [
    "problem_df = pd.read_parquet('theedgemalaysia--complete-batch-1-14.parquet')\n",
    "problem_df.columns"
   ]
  },
  {
   "cell_type": "code",
   "execution_count": 5,
   "metadata": {},
   "outputs": [
    {
     "data": {
      "text/plain": [
       "(414268, 4)"
      ]
     },
     "execution_count": 5,
     "metadata": {},
     "output_type": "execute_result"
    }
   ],
   "source": [
    "problem_df.shape"
   ]
  },
  {
   "cell_type": "code",
   "execution_count": 7,
   "metadata": {},
   "outputs": [],
   "source": [
    "problem_df.to_parquet('theedgemalaysia--complete-batch-1-14.parquet', index=False)"
   ]
  }
 ],
 "metadata": {
  "kernelspec": {
   "display_name": "base",
   "language": "python",
   "name": "python3"
  },
  "language_info": {
   "codemirror_mode": {
    "name": "ipython",
    "version": 3
   },
   "file_extension": ".py",
   "mimetype": "text/x-python",
   "name": "python",
   "nbconvert_exporter": "python",
   "pygments_lexer": "ipython3",
   "version": "3.9.12"
  },
  "orig_nbformat": 4
 },
 "nbformat": 4,
 "nbformat_minor": 2
}
