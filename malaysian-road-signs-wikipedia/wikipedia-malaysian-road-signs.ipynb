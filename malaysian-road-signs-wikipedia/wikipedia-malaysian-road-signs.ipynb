{
 "cells": [
  {
   "cell_type": "code",
   "execution_count": 10,
   "metadata": {},
   "outputs": [],
   "source": [
    "# !pip install bs4 pandas -q"
   ]
  },
  {
   "cell_type": "code",
   "execution_count": 167,
   "metadata": {},
   "outputs": [],
   "source": [
    "import pandas as pd\n",
    "pd.set_option('display.max_rows', 500)\n",
    "import json\n",
    "\n",
    "import requests\n",
    "from bs4 import BeautifulSoup"
   ]
  },
  {
   "cell_type": "code",
   "execution_count": 5,
   "metadata": {},
   "outputs": [],
   "source": [
    "test_url = \"https://en.wikipedia.org/wiki/Road_signs_in_Malaysia\""
   ]
  },
  {
   "cell_type": "code",
   "execution_count": 16,
   "metadata": {},
   "outputs": [
    {
     "name": "stdout",
     "output_type": "stream",
     "text": [
      "<Response [200]>\n"
     ]
    }
   ],
   "source": [
    "response = requests.get(\n",
    "    test_url,\n",
    ")\n",
    "\n",
    "print(response)"
   ]
  },
  {
   "cell_type": "code",
   "execution_count": 42,
   "metadata": {},
   "outputs": [],
   "source": [
    "soup = BeautifulSoup(response.text, \"html.parser\")"
   ]
  },
  {
   "cell_type": "markdown",
   "metadata": {},
   "source": [
    "#### 1.0 Scrape all images that are attached to a gallery\n",
    "\n",
    "One approach is to just use `soup.findAll(\"img\").get(\"src\")`, however, the images turned out to be very small. Hence, we decided to grab the ones with larger dimensions."
   ]
  },
  {
   "cell_type": "code",
   "execution_count": 58,
   "metadata": {},
   "outputs": [
    {
     "data": {
      "text/plain": [
       "30"
      ]
     },
     "execution_count": 58,
     "metadata": {},
     "output_type": "execute_result"
    }
   ],
   "source": [
    "len(soup.findAll(\"ul\", class_=\"gallery mw-gallery-traditional\"))"
   ]
  },
  {
   "cell_type": "code",
   "execution_count": 75,
   "metadata": {},
   "outputs": [],
   "source": [
    "for i in soup.findAll(\"ul\", class_=\"gallery mw-gallery-traditional\"):\n",
    "    for j in i.findAll(\"a\", class_=\"mw-file-description\"):\n",
    "        image_href_low = \"https://en.wikipedia.org\" + j.get('href')\n",
    "        try:\n",
    "            image_title = j.get(\"title\")\n",
    "        except:\n",
    "            image_title = \"\"\n",
    "\n",
    "        data = {\n",
    "            \"image_href\": image_href_low,\n",
    "            \"image_title\": image_title,\n",
    "        }\n",
    "\n",
    "        with open(f'wikipedia-scrape-image-low-res.jsonl', 'a') as final:\n",
    "            json.dump(data, final)\n",
    "            final.write('\\n')"
   ]
  },
  {
   "cell_type": "markdown",
   "metadata": {},
   "source": [
    "#### 2.0 Enrich dataset with Road Sign type and get High-res images"
   ]
  },
  {
   "cell_type": "code",
   "execution_count": 117,
   "metadata": {},
   "outputs": [],
   "source": [
    "def get_high_res_href(url_img: str) -> str:\n",
    "    \"\"\"\n",
    "    A function that takes a low resolution image URL (scraped at \n",
    "    the main Wikipedia page) and get's the higher resolution \n",
    "    image URL by getting the Wikipedia Commons\n",
    "    link.\n",
    "    \"\"\"\n",
    "\n",
    "    response = requests.get(\n",
    "        url_img,\n",
    "    )\n",
    "\n",
    "    soup = BeautifulSoup(response.text, \"html.parser\")\n",
    "\n",
    "    div_ = soup.find(\"div\", class_=\"fullImageLink\")\n",
    "\n",
    "    img_url = div_.find(\"a\").get(\"href\")\n",
    "\n",
    "    return \"https:\" + img_url"
   ]
  },
  {
   "cell_type": "code",
   "execution_count": 118,
   "metadata": {},
   "outputs": [
    {
     "name": "stdout",
     "output_type": "stream",
     "text": [
      "//upload.wikimedia.org/wikipedia/commons/5/54/Jkr-ft1.svg\n"
     ]
    },
    {
     "data": {
      "text/plain": [
       "'https://upload.wikimedia.org/wikipedia/commons/5/54/Jkr-ft1.svg'"
      ]
     },
     "execution_count": 118,
     "metadata": {},
     "output_type": "execute_result"
    }
   ],
   "source": [
    "# Test function\n",
    "test_1 = get_high_res_href(\"https://en.wikipedia.org/wiki/File:Jkr-ft1.svg\")\n",
    "test_1"
   ]
  },
  {
   "cell_type": "code",
   "execution_count": 119,
   "metadata": {},
   "outputs": [
    {
     "data": {
      "text/html": [
       "<div>\n",
       "<style scoped>\n",
       "    .dataframe tbody tr th:only-of-type {\n",
       "        vertical-align: middle;\n",
       "    }\n",
       "\n",
       "    .dataframe tbody tr th {\n",
       "        vertical-align: top;\n",
       "    }\n",
       "\n",
       "    .dataframe thead th {\n",
       "        text-align: right;\n",
       "    }\n",
       "</style>\n",
       "<table border=\"1\" class=\"dataframe\">\n",
       "  <thead>\n",
       "    <tr style=\"text-align: right;\">\n",
       "      <th></th>\n",
       "      <th>image_href</th>\n",
       "      <th>image_title</th>\n",
       "    </tr>\n",
       "  </thead>\n",
       "  <tbody>\n",
       "    <tr>\n",
       "      <th>0</th>\n",
       "      <td>https://en.wikipedia.org/wiki/File:Jkr-ft1.svg</td>\n",
       "      <td>Federal roads route code shield</td>\n",
       "    </tr>\n",
       "    <tr>\n",
       "      <th>1</th>\n",
       "      <td>https://en.wikipedia.org/wiki/File:Jkr-k602.svg</td>\n",
       "      <td>State roads route code shield</td>\n",
       "    </tr>\n",
       "    <tr>\n",
       "      <th>2</th>\n",
       "      <td>https://en.wikipedia.org/wiki/File:E12-LLM.png</td>\n",
       "      <td>Expressway (toll road) route code shield</td>\n",
       "    </tr>\n",
       "  </tbody>\n",
       "</table>\n",
       "</div>"
      ],
      "text/plain": [
       "                                        image_href  \\\n",
       "0   https://en.wikipedia.org/wiki/File:Jkr-ft1.svg   \n",
       "1  https://en.wikipedia.org/wiki/File:Jkr-k602.svg   \n",
       "2   https://en.wikipedia.org/wiki/File:E12-LLM.png   \n",
       "\n",
       "                                image_title  \n",
       "0           Federal roads route code shield  \n",
       "1             State roads route code shield  \n",
       "2  Expressway (toll road) route code shield  "
      ]
     },
     "execution_count": 119,
     "metadata": {},
     "output_type": "execute_result"
    }
   ],
   "source": [
    "wiki_df = pd.read_json('wikipedia-scrape-image-low-res.jsonl', lines=True)\n",
    "wiki_df.head(3)"
   ]
  },
  {
   "cell_type": "code",
   "execution_count": 145,
   "metadata": {},
   "outputs": [
    {
     "data": {
      "text/html": [
       "<div>\n",
       "<style scoped>\n",
       "    .dataframe tbody tr th:only-of-type {\n",
       "        vertical-align: middle;\n",
       "    }\n",
       "\n",
       "    .dataframe tbody tr th {\n",
       "        vertical-align: top;\n",
       "    }\n",
       "\n",
       "    .dataframe thead th {\n",
       "        text-align: right;\n",
       "    }\n",
       "</style>\n",
       "<table border=\"1\" class=\"dataframe\">\n",
       "  <thead>\n",
       "    <tr style=\"text-align: right;\">\n",
       "      <th></th>\n",
       "      <th>image_href</th>\n",
       "      <th>image_title</th>\n",
       "      <th>high_res_href</th>\n",
       "    </tr>\n",
       "  </thead>\n",
       "  <tbody>\n",
       "    <tr>\n",
       "      <th>0</th>\n",
       "      <td>https://en.wikipedia.org/wiki/File:Jkr-ft1.svg</td>\n",
       "      <td>Federal roads route code shield</td>\n",
       "      <td>https://upload.wikimedia.org/wikipedia/commons...</td>\n",
       "    </tr>\n",
       "    <tr>\n",
       "      <th>1</th>\n",
       "      <td>https://en.wikipedia.org/wiki/File:Jkr-k602.svg</td>\n",
       "      <td>State roads route code shield</td>\n",
       "      <td>https://upload.wikimedia.org/wikipedia/commons...</td>\n",
       "    </tr>\n",
       "    <tr>\n",
       "      <th>2</th>\n",
       "      <td>https://en.wikipedia.org/wiki/File:E12-LLM.png</td>\n",
       "      <td>Expressway (toll road) route code shield</td>\n",
       "      <td>https://upload.wikimedia.org/wikipedia/commons...</td>\n",
       "    </tr>\n",
       "  </tbody>\n",
       "</table>\n",
       "</div>"
      ],
      "text/plain": [
       "                                        image_href  \\\n",
       "0   https://en.wikipedia.org/wiki/File:Jkr-ft1.svg   \n",
       "1  https://en.wikipedia.org/wiki/File:Jkr-k602.svg   \n",
       "2   https://en.wikipedia.org/wiki/File:E12-LLM.png   \n",
       "\n",
       "                                image_title  \\\n",
       "0           Federal roads route code shield   \n",
       "1             State roads route code shield   \n",
       "2  Expressway (toll road) route code shield   \n",
       "\n",
       "                                       high_res_href  \n",
       "0  https://upload.wikimedia.org/wikipedia/commons...  \n",
       "1  https://upload.wikimedia.org/wikipedia/commons...  \n",
       "2  https://upload.wikimedia.org/wikipedia/commons...  "
      ]
     },
     "execution_count": 145,
     "metadata": {},
     "output_type": "execute_result"
    }
   ],
   "source": [
    "# Apply the get_high_res_href function to create a new column 'high_res_href'\n",
    "wiki_df['high_res_href'] = wiki_df['image_href'].apply(get_high_res_href)\n",
    "wiki_df.head(3)"
   ]
  },
  {
   "cell_type": "code",
   "execution_count": 172,
   "metadata": {},
   "outputs": [],
   "source": [
    "def map_road_sign_type(index: int):\n",
    "    \"\"\"\n",
    "    Helper function to manually map the dataframe's index with Wikipedia's article copywriting.\n",
    "    Future coder's can help make this more efficient.\n",
    "\n",
    "    ### Arguments\n",
    "    - `index`: Pandas dataframe index\n",
    "\n",
    "    ### Returns\n",
    "    A **tuple** with the following arguments:\n",
    "    - Road Sign Type\n",
    "    - Road Sign Description\n",
    "    \"\"\"\n",
    "    if index < 5:\n",
    "        return \"State\", \\\n",
    "               \"State roads use letters that correspond to each state. (refer here for state letter codes/plate numbers)\"\n",
    "    elif index < 48:\n",
    "        return \"Warning sign\", \\\n",
    "               \"Malaysian warning signs are diamond-shaped or rectangular and are yellow and black or red and white in colour.\"\n",
    "    elif index < 70:\n",
    "        return \"Prohibition sign\", \\\n",
    "               \"Malaysia prohibition signs are round with red outline and black pictogram.\"\n",
    "    elif index < 82:\n",
    "        return \"Mandatory sign\", \\\n",
    "               \"Mandatory instruction signs are round with blue backgrounds and white pictogram. These are also used in signifying specific vehicle type lanes.\"\n",
    "    elif index < 89:\n",
    "        return \"Speed Limit sign\", \\\n",
    "               \"These signs show speed limit on roads.\"\n",
    "    elif index < 127:\n",
    "        return \"Construction/Temporary sign\", \\\n",
    "               \"The construction signs in Malaysia are diamond-shaped placed on rectangular sign and are orange and black in colour.\"\n",
    "    elif index < 155:\n",
    "        return \"Information sign\", \\\n",
    "               \"Malaysian information signs are blue.\"\n",
    "    elif index < 161:\n",
    "        return \"Directional and distance sign: Motorcycle lane\", \\\n",
    "               \"Malaysian motorcycle lane signs are blue.\"\n",
    "    elif index < 226:\n",
    "        return \"Directional and distance sign: Expressway sign\", \\\n",
    "               \"Expressway signs have a green background. If the sign is not located on an expressway but is leading to one, it will have a blue background with green box in it.\"\n",
    "    elif index < 234:\n",
    "        return \"Directional and distance sign: Expressway signs (Old format)\", \\\n",
    "               \"Outdated sign designs that are no longer in use.\"\n",
    "    elif index < 263:\n",
    "        return \"Directional and distance sign: Non-tolled Federal, State and Municipal Roads\", \\\n",
    "            \"\"\"\n",
    "            Malaysian road signs are blue and used for federal, state and municipal roads.\n",
    "            - Blue with white letters signs for major destinations\n",
    "            - Maroon with white letters signs for recreational places/tourist spot\n",
    "            - Blue with yellow letters signs for street names\n",
    "            - White with green letters signs for specific places/buildings\n",
    "            - Green with yellow letters signs for government buildings/institution\n",
    "            - White with blue letters signs for residential area\n",
    "            \"\"\"\n",
    "    elif index < 268:\n",
    "        return \"Directional and distance sign: Non-tolled Federal, State and Municipal Roads (Old format)\", \\\n",
    "               \"\"\n",
    "    elif index < 272:\n",
    "        return \"Asian Highway route sign\", \\\n",
    "               \"As part of the Asian Highway Network.\"\n",
    "    elif index < 273:\n",
    "        return \"Border sign: International border sign\", \\\n",
    "               \"Border signs in Malaysia are green for international and state and blue for district.\"\n",
    "    elif index < 275:\n",
    "        return \"Border sign: State border sign\", \\\n",
    "               \"Border signs in Malaysia are green for international and state and blue for district.\"\n",
    "    elif index < 279:\n",
    "        return \"Border sign: District border sign\", \\\n",
    "               \"Border signs in Malaysia are green for international and state and blue for district.\"\n",
    "    elif index < 293:\n",
    "        return \"Institution and building sign\", \\\n",
    "               \"\"\"\n",
    "                These are other important signs in Malaysia such as government institutions and tourist destinations.\n",
    "\n",
    "                - White with black letters for towns and other settlements.\n",
    "                - Green with orange letters for government institutions.\n",
    "                - White with green letters and Maroon with white letters for tourist destinations.\n",
    "                \"\"\"\n",
    "    elif index < 300:\n",
    "        return \"Tourist destination sign\", \"Malaysian tourist destination signs are in maroon with white and black icons.\"\n",
    "    elif index < 303:\n",
    "        return \"Weighing bridge sign\", \"There is also a signs for weighing bridge.\"\n",
    "    elif index < 308:\n",
    "        return \"Road name sign\", \"Road name sign in Malaysia have many different colours and styles according the local authority to design with them.\"\n",
    "    elif index < 313:\n",
    "        return \"Road markings: Centre lines\", \\\n",
    "               \"\"\" \n",
    "               Road markings in Malaysia primarily use thermoplastic and are white. Yellow markings are usually for road shoulders, \n",
    "               construction or temporary markings and parking.\n",
    "               \n",
    "               Centre lines divide the road into either direction.\n",
    "               \"\"\"\n",
    "    elif index < 317:\n",
    "        return \"Road markings: Edge lines\", \\\n",
    "               \"\"\" \n",
    "               Road markings in Malaysia primarily use thermoplastic and are white. Yellow markings are usually for road shoulders, \n",
    "               construction or temporary markings and parking.\n",
    "               \n",
    "               Edge lines are located at the edges of a road, whether there is a median or pavement or not.\n",
    "               \"\"\"\n",
    "    elif index < 320:\n",
    "        return \"Road markings: Lane dividers\", \\\n",
    "               \"\"\" \n",
    "               Road markings in Malaysia primarily use thermoplastic and are white. Yellow markings are usually for road shoulders, \n",
    "               construction or temporary markings and parking.\n",
    "               \n",
    "               Lane dividers divide road into lanes according to its designated width.\n",
    "               \"\"\"\n",
    "    elif index < 330:\n",
    "        return \"Road markings: Directional markings\", \\\n",
    "               \"\"\" \n",
    "               Road markings in Malaysia primarily use thermoplastic and are white. Yellow markings are usually for road shoulders, \n",
    "               construction or temporary markings and parking.\n",
    "\n",
    "               Directional marking consists of arrows and lettering on the road.\n",
    "               \"\"\"\n",
    "               \n",
    "    elif index < 341:\n",
    "        return \"Road markings: Other types\", \\\n",
    "               \"\"\" \n",
    "               Road markings in Malaysia primarily use thermoplastic and are white. Yellow markings are usually for road shoulders, \n",
    "               construction or temporary markings and parking.\n",
    "               \"\"\"\n",
    "    elif index < 342:\n",
    "        return \"Bridge-related sign\", \"These signs are usually found on bridges.\"\n",
    "    elif index < 345:\n",
    "        return \"River sign\", \"These signs are usually found on bridges.\"\n",
    "    elif index < 348:\n",
    "        return \"Highway concessionaires border limit\", \"Many expressways/highways has a border limit.\"\n",
    "    elif index < 351:\n",
    "        return \"Traffic Light codes\", \"Many traffic lights have codes in them.\"\n",
    "    else:\n",
    "        return \"Other\", \"\""
   ]
  },
  {
   "cell_type": "code",
   "execution_count": 174,
   "metadata": {},
   "outputs": [],
   "source": [
    "wiki_df3 = wiki_df.copy()\n",
    "\n",
    "# Apply the custom mapping function to create the 'Road Sign Type' column\n",
    "wiki_df3['Road Sign Type'], wiki_df3['Road Sign Description'] = zip(*wiki_df3.index.map(map_road_sign_type))"
   ]
  },
  {
   "cell_type": "code",
   "execution_count": 175,
   "metadata": {},
   "outputs": [
    {
     "data": {
      "text/html": [
       "<div>\n",
       "<style scoped>\n",
       "    .dataframe tbody tr th:only-of-type {\n",
       "        vertical-align: middle;\n",
       "    }\n",
       "\n",
       "    .dataframe tbody tr th {\n",
       "        vertical-align: top;\n",
       "    }\n",
       "\n",
       "    .dataframe thead th {\n",
       "        text-align: right;\n",
       "    }\n",
       "</style>\n",
       "<table border=\"1\" class=\"dataframe\">\n",
       "  <thead>\n",
       "    <tr style=\"text-align: right;\">\n",
       "      <th></th>\n",
       "      <th>image_href</th>\n",
       "      <th>image_title</th>\n",
       "      <th>high_res_href</th>\n",
       "      <th>Road Sign Type</th>\n",
       "      <th>Road Sign Description</th>\n",
       "    </tr>\n",
       "  </thead>\n",
       "  <tbody>\n",
       "    <tr>\n",
       "      <th>0</th>\n",
       "      <td>https://en.wikipedia.org/wiki/File:Jkr-ft1.svg</td>\n",
       "      <td>Federal roads route code shield</td>\n",
       "      <td>https://upload.wikimedia.org/wikipedia/commons...</td>\n",
       "      <td>State</td>\n",
       "      <td>State roads use letters that correspond to eac...</td>\n",
       "    </tr>\n",
       "    <tr>\n",
       "      <th>1</th>\n",
       "      <td>https://en.wikipedia.org/wiki/File:Jkr-k602.svg</td>\n",
       "      <td>State roads route code shield</td>\n",
       "      <td>https://upload.wikimedia.org/wikipedia/commons...</td>\n",
       "      <td>State</td>\n",
       "      <td>State roads use letters that correspond to eac...</td>\n",
       "    </tr>\n",
       "    <tr>\n",
       "      <th>2</th>\n",
       "      <td>https://en.wikipedia.org/wiki/File:E12-LLM.png</td>\n",
       "      <td>Expressway (toll road) route code shield</td>\n",
       "      <td>https://upload.wikimedia.org/wikipedia/commons...</td>\n",
       "      <td>State</td>\n",
       "      <td>State roads use letters that correspond to eac...</td>\n",
       "    </tr>\n",
       "  </tbody>\n",
       "</table>\n",
       "</div>"
      ],
      "text/plain": [
       "                                        image_href  \\\n",
       "0   https://en.wikipedia.org/wiki/File:Jkr-ft1.svg   \n",
       "1  https://en.wikipedia.org/wiki/File:Jkr-k602.svg   \n",
       "2   https://en.wikipedia.org/wiki/File:E12-LLM.png   \n",
       "\n",
       "                                image_title  \\\n",
       "0           Federal roads route code shield   \n",
       "1             State roads route code shield   \n",
       "2  Expressway (toll road) route code shield   \n",
       "\n",
       "                                       high_res_href Road Sign Type  \\\n",
       "0  https://upload.wikimedia.org/wikipedia/commons...          State   \n",
       "1  https://upload.wikimedia.org/wikipedia/commons...          State   \n",
       "2  https://upload.wikimedia.org/wikipedia/commons...          State   \n",
       "\n",
       "                               Road Sign Description  \n",
       "0  State roads use letters that correspond to eac...  \n",
       "1  State roads use letters that correspond to eac...  \n",
       "2  State roads use letters that correspond to eac...  "
      ]
     },
     "execution_count": 175,
     "metadata": {},
     "output_type": "execute_result"
    }
   ],
   "source": [
    "wiki_df3.head(3)"
   ]
  },
  {
   "cell_type": "code",
   "execution_count": 190,
   "metadata": {},
   "outputs": [
    {
     "name": "stdout",
     "output_type": "stream",
     "text": [
      "Wiki_df3 Shape: (365, 5)\n",
      "\n",
      "<class 'pandas.core.frame.DataFrame'>\n",
      "RangeIndex: 365 entries, 0 to 364\n",
      "Data columns (total 5 columns):\n",
      " #   Column                 Non-Null Count  Dtype \n",
      "---  ------                 --------------  ----- \n",
      " 0   image_href             365 non-null    object\n",
      " 1   image_title            359 non-null    object\n",
      " 2   high_res_href          365 non-null    object\n",
      " 3   Road Sign Type         365 non-null    object\n",
      " 4   Road Sign Description  365 non-null    object\n",
      "dtypes: object(5)\n",
      "memory usage: 14.4+ KB\n"
     ]
    }
   ],
   "source": [
    "print(f\"Wiki_df3 Shape: {wiki_df3.shape}\")\n",
    "print(\"\")\n",
    "\n",
    "wiki_df3.info()"
   ]
  },
  {
   "cell_type": "markdown",
   "metadata": {},
   "source": [
    "### 3.0 Export `wiki_df3` to `.jsonl` format"
   ]
  },
  {
   "cell_type": "code",
   "execution_count": 181,
   "metadata": {},
   "outputs": [],
   "source": [
    "wiki_df4 = wiki_df3.copy()"
   ]
  },
  {
   "cell_type": "code",
   "execution_count": 183,
   "metadata": {},
   "outputs": [
    {
     "data": {
      "text/html": [
       "<div>\n",
       "<style scoped>\n",
       "    .dataframe tbody tr th:only-of-type {\n",
       "        vertical-align: middle;\n",
       "    }\n",
       "\n",
       "    .dataframe tbody tr th {\n",
       "        vertical-align: top;\n",
       "    }\n",
       "\n",
       "    .dataframe thead th {\n",
       "        text-align: right;\n",
       "    }\n",
       "</style>\n",
       "<table border=\"1\" class=\"dataframe\">\n",
       "  <thead>\n",
       "    <tr style=\"text-align: right;\">\n",
       "      <th></th>\n",
       "      <th>low_res_image_url</th>\n",
       "      <th>image_description</th>\n",
       "      <th>high_res_image_url</th>\n",
       "      <th>road_sign_type</th>\n",
       "      <th>road_sign_description</th>\n",
       "    </tr>\n",
       "  </thead>\n",
       "  <tbody>\n",
       "    <tr>\n",
       "      <th>0</th>\n",
       "      <td>https://en.wikipedia.org/wiki/File:Jkr-ft1.svg</td>\n",
       "      <td>Federal roads route code shield</td>\n",
       "      <td>https://upload.wikimedia.org/wikipedia/commons...</td>\n",
       "      <td>State</td>\n",
       "      <td>State roads use letters that correspond to eac...</td>\n",
       "    </tr>\n",
       "    <tr>\n",
       "      <th>1</th>\n",
       "      <td>https://en.wikipedia.org/wiki/File:Jkr-k602.svg</td>\n",
       "      <td>State roads route code shield</td>\n",
       "      <td>https://upload.wikimedia.org/wikipedia/commons...</td>\n",
       "      <td>State</td>\n",
       "      <td>State roads use letters that correspond to eac...</td>\n",
       "    </tr>\n",
       "    <tr>\n",
       "      <th>2</th>\n",
       "      <td>https://en.wikipedia.org/wiki/File:E12-LLM.png</td>\n",
       "      <td>Expressway (toll road) route code shield</td>\n",
       "      <td>https://upload.wikimedia.org/wikipedia/commons...</td>\n",
       "      <td>State</td>\n",
       "      <td>State roads use letters that correspond to eac...</td>\n",
       "    </tr>\n",
       "  </tbody>\n",
       "</table>\n",
       "</div>"
      ],
      "text/plain": [
       "                                 low_res_image_url  \\\n",
       "0   https://en.wikipedia.org/wiki/File:Jkr-ft1.svg   \n",
       "1  https://en.wikipedia.org/wiki/File:Jkr-k602.svg   \n",
       "2   https://en.wikipedia.org/wiki/File:E12-LLM.png   \n",
       "\n",
       "                          image_description  \\\n",
       "0           Federal roads route code shield   \n",
       "1             State roads route code shield   \n",
       "2  Expressway (toll road) route code shield   \n",
       "\n",
       "                                  high_res_image_url road_sign_type  \\\n",
       "0  https://upload.wikimedia.org/wikipedia/commons...          State   \n",
       "1  https://upload.wikimedia.org/wikipedia/commons...          State   \n",
       "2  https://upload.wikimedia.org/wikipedia/commons...          State   \n",
       "\n",
       "                               road_sign_description  \n",
       "0  State roads use letters that correspond to eac...  \n",
       "1  State roads use letters that correspond to eac...  \n",
       "2  State roads use letters that correspond to eac...  "
      ]
     },
     "execution_count": 183,
     "metadata": {},
     "output_type": "execute_result"
    }
   ],
   "source": [
    "# rename columns\n",
    "wiki_df4.columns = [\n",
    "    'low_res_image_url',\n",
    "    'image_description',\n",
    "    'high_res_image_url',\n",
    "    'road_sign_type',\n",
    "    'road_sign_description'\n",
    "]\n",
    "\n",
    "wiki_df4.head(3)"
   ]
  },
  {
   "cell_type": "code",
   "execution_count": 185,
   "metadata": {},
   "outputs": [],
   "source": [
    "# drop `low_res_image_url` column\n",
    "wiki_df4.drop('low_res_image_url', inplace=True, axis=1)"
   ]
  },
  {
   "cell_type": "code",
   "execution_count": 187,
   "metadata": {},
   "outputs": [],
   "source": [
    "# Convert the DataFrame to a list of dictionaries\n",
    "data_list = wiki_df4.to_dict(orient='records')"
   ]
  },
  {
   "cell_type": "code",
   "execution_count": 188,
   "metadata": {},
   "outputs": [],
   "source": [
    "jsonl_file_path = 'wikipedia-malaysian-roadsigns-final.jsonl'\n",
    "\n",
    "# Write each dictionary to a separate line in the .jsonl file\n",
    "with open(jsonl_file_path, 'w') as jsonl_file:\n",
    "    for data_dict in data_list:\n",
    "\n",
    "        # Use json.dumps to serialize the dictionary to a JSON-formatted string\n",
    "        json_line = json.dumps(data_dict)\n",
    "\n",
    "        # Write the JSON-formatted string to the .jsonl file\n",
    "        jsonl_file.write(json_line + '\\n')"
   ]
  }
 ],
 "metadata": {
  "kernelspec": {
   "display_name": "gfk_assessment",
   "language": "python",
   "name": "python3"
  },
  "language_info": {
   "codemirror_mode": {
    "name": "ipython",
    "version": 3
   },
   "file_extension": ".py",
   "mimetype": "text/x-python",
   "name": "python",
   "nbconvert_exporter": "python",
   "pygments_lexer": "ipython3",
   "version": "3.11.5"
  }
 },
 "nbformat": 4,
 "nbformat_minor": 2
}
