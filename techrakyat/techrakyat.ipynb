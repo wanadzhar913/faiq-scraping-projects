{
 "cells": [
  {
   "cell_type": "code",
   "execution_count": 35,
   "metadata": {},
   "outputs": [],
   "source": [
    "import pandas as pd\n",
    "import json\n",
    "\n",
    "import requests\n",
    "from bs4 import BeautifulSoup\n",
    "\n",
    "import gc\n",
    "import time\n",
    "from tqdm.notebook import tqdm\n",
    "from concurrent.futures import ThreadPoolExecutor, as_completed"
   ]
  },
  {
   "cell_type": "code",
   "execution_count": 36,
   "metadata": {},
   "outputs": [],
   "source": [
    "cookies = {\n",
    "    'ezoadgid_114948': '-1',\n",
    "    'ezoref_114948': '',\n",
    "    'ezosuibasgeneris-1': 'a118d960-00f1-4f29-7886-bd88aff9e427',\n",
    "    'ezoab_114948': 'mod35-c',\n",
    "    'ezovid_114948': '534297242',\n",
    "    'lp_114948': 'https://techrakyat.com/',\n",
    "    'ezovuuid_114948': 'ebbfc0ed-200a-48ca-4ed8-fc37cde2ed7a',\n",
    "    'ezds': 'ffid%3D1%2Cw%3D1368%2Ch%3D912',\n",
    "    '_ga': 'GA1.1.1854117891.1694326492',\n",
    "    '__qca': 'P0-1969678871-1694326498631',\n",
    "    'ezux_ifep_114948': 'true',\n",
    "    '_pbjs_userid_consent_data': '3524755945110770',\n",
    "    'cnx_userId': 'ea3f7c275d3c41e195be89513380856a',\n",
    "    '_cc_id': '2eb1503300a705422b12f7957f2e9a35',\n",
    "    'panoramaId_expiry': '1694931329921',\n",
    "    'panoramaId': '127a715a7ca55b5663be2b1bcf6616d539384e06c3902f002688e78798baabbc',\n",
    "    'panoramaIdType': 'panoIndiv',\n",
    "    'ezouspvh': '140',\n",
    "    'ezouspvv': '0',\n",
    "    '__gads': 'ID=e10681e1634ad889:T=1694326526:RT=1694328131:S=ALNI_Mb75SVYyM5fCdJq0rB-MfKweKF9SQ',\n",
    "    '__gpi': 'UID=00000c40799eb4ae:T=1694326526:RT=1694328131:S=ALNI_MbmGjgllIkVUgQeAWxEBPf5oQquJA',\n",
    "    'ezvignetteviewed': 'true',\n",
    "    'ezepvv': '0',\n",
    "    'ezouspva': '0',\n",
    "    'ezohw': 'w%3D1368%2Ch%3D774',\n",
    "    '_pubcid': '6e55175a-06b7-4621-8467-b3b963ba5c2d',\n",
    "    'cto_bundle': 'nGB5B19wVlZNTDJ5Vk96ak96M3BpSU9HMFdOS0tmQTRWSnp3eU5Xa2NMTHR5OEY2cXdXeHdkWWw0NEVPV2tSUTBhWUlKQ1ZtVjlseEFvdFdnRmd2cDNzelROZmhZTDFyb0hpNHY2M3k2Q2dQZ2JEaXZhUDg0MHVJQ2dxbjk5WFZqcDJBYXE5YWZmbEMwdFVQWHZRY1djMUlnJTJGa21MVkg1SFU5azY1SWV2YXNZc0tHVTBmZnVmaHA5NFYlMkJNM2xUWkUlMkJxb2ZSU0VmbHFVZXJKUTJRTjc5ZjlTazlWaGdnJTJGWHV6YiUyQjFLdXl1QzlyNFElMkJESTVRWW5qdEppbm92a081Sk1oOFpnR2ZyM0FsZ1ZvREJFaW12a3RWbzRRQSUzRCUzRA',\n",
    "    'cto_bidid': '1T8hv180NlBMVVJUclRxeHJmZ1VKTTJyeDQ3aTVtbFhWMTU0a0VHVkZweFp2aEhwYUNEQWJLY0VWMTdobkR2Vm82Slo1MGJOQiUyQjRjMlJyUlBpbnJ0ZnFsbVVJTW9kVUx3QmZsamc3RkJiZ2hEcVdQVk01bUpBMkx6RDNvdFplMDhTdUx0',\n",
    "    'active_template::114948': 'pub_site.1694328549',\n",
    "    'ezopvc_114948': '48',\n",
    "    'ezovuuidtime_114948': '1694328549',\n",
    "    'ezux_lpl_114948': '1694328550682|52b690fe-abbf-4a1e-6f87-df360cdd8c61|false',\n",
    "    '_ga_KJN1ZJ79QS': 'GS1.1.1694326492.1.1.1694328556.0.0.0',\n",
    "    'ezux_et_114948': '712',\n",
    "    'ezux_tos_114948': '1933',\n",
    "}\n",
    "\n",
    "headers = {\n",
    "    'authority': 'techrakyat.com',\n",
    "    'accept': 'text/html,application/xhtml+xml,application/xml;q=0.9,image/avif,image/webp,image/apng,*/*;q=0.8,application/signed-exchange;v=b3;q=0.7',\n",
    "    'accept-language': 'en-US,en;q=0.9',\n",
    "    'cache-control': 'max-age=0',\n",
    "    # 'cookie': 'ezoadgid_114948=-1; ezoref_114948=; ezosuibasgeneris-1=a118d960-00f1-4f29-7886-bd88aff9e427; ezoab_114948=mod35-c; ezovid_114948=534297242; lp_114948=https://techrakyat.com/; ezovuuid_114948=ebbfc0ed-200a-48ca-4ed8-fc37cde2ed7a; ezds=ffid%3D1%2Cw%3D1368%2Ch%3D912; _ga=GA1.1.1854117891.1694326492; __qca=P0-1969678871-1694326498631; ezux_ifep_114948=true; _pbjs_userid_consent_data=3524755945110770; cnx_userId=ea3f7c275d3c41e195be89513380856a; _cc_id=2eb1503300a705422b12f7957f2e9a35; panoramaId_expiry=1694931329921; panoramaId=127a715a7ca55b5663be2b1bcf6616d539384e06c3902f002688e78798baabbc; panoramaIdType=panoIndiv; ezouspvh=140; ezouspvv=0; __gads=ID=e10681e1634ad889:T=1694326526:RT=1694328131:S=ALNI_Mb75SVYyM5fCdJq0rB-MfKweKF9SQ; __gpi=UID=00000c40799eb4ae:T=1694326526:RT=1694328131:S=ALNI_MbmGjgllIkVUgQeAWxEBPf5oQquJA; ezvignetteviewed=true; ezepvv=0; ezouspva=0; ezohw=w%3D1368%2Ch%3D774; _pubcid=6e55175a-06b7-4621-8467-b3b963ba5c2d; cto_bundle=nGB5B19wVlZNTDJ5Vk96ak96M3BpSU9HMFdOS0tmQTRWSnp3eU5Xa2NMTHR5OEY2cXdXeHdkWWw0NEVPV2tSUTBhWUlKQ1ZtVjlseEFvdFdnRmd2cDNzelROZmhZTDFyb0hpNHY2M3k2Q2dQZ2JEaXZhUDg0MHVJQ2dxbjk5WFZqcDJBYXE5YWZmbEMwdFVQWHZRY1djMUlnJTJGa21MVkg1SFU5azY1SWV2YXNZc0tHVTBmZnVmaHA5NFYlMkJNM2xUWkUlMkJxb2ZSU0VmbHFVZXJKUTJRTjc5ZjlTazlWaGdnJTJGWHV6YiUyQjFLdXl1QzlyNFElMkJESTVRWW5qdEppbm92a081Sk1oOFpnR2ZyM0FsZ1ZvREJFaW12a3RWbzRRQSUzRCUzRA; cto_bidid=1T8hv180NlBMVVJUclRxeHJmZ1VKTTJyeDQ3aTVtbFhWMTU0a0VHVkZweFp2aEhwYUNEQWJLY0VWMTdobkR2Vm82Slo1MGJOQiUyQjRjMlJyUlBpbnJ0ZnFsbVVJTW9kVUx3QmZsamc3RkJiZ2hEcVdQVk01bUpBMkx6RDNvdFplMDhTdUx0; active_template::114948=pub_site.1694328549; ezopvc_114948=48; ezovuuidtime_114948=1694328549; ezux_lpl_114948=1694328550682|52b690fe-abbf-4a1e-6f87-df360cdd8c61|false; _ga_KJN1ZJ79QS=GS1.1.1694326492.1.1.1694328556.0.0.0; ezux_et_114948=712; ezux_tos_114948=1933',\n",
    "    'referer': 'https://techrakyat.com/tips/',\n",
    "    'sec-ch-ua': '\"Chromium\";v=\"116\", \"Not)A;Brand\";v=\"24\", \"Google Chrome\";v=\"116\"',\n",
    "    'sec-ch-ua-mobile': '?0',\n",
    "    'sec-ch-ua-platform': '\"Windows\"',\n",
    "    'sec-fetch-dest': 'document',\n",
    "    'sec-fetch-mode': 'navigate',\n",
    "    'sec-fetch-site': 'same-origin',\n",
    "    'sec-fetch-user': '?1',\n",
    "    'upgrade-insecure-requests': '1',\n",
    "    'user-agent': 'Mozilla/5.0 (Windows NT 10.0; Win64; x64) AppleWebKit/537.36 (KHTML, like Gecko) Chrome/116.0.0.0 Safari/537.36',\n",
    "}"
   ]
  },
  {
   "cell_type": "markdown",
   "metadata": {},
   "source": [
    "### 1.0 Get links for subsections in the *Reviews* section."
   ]
  },
  {
   "cell_type": "code",
   "execution_count": 37,
   "metadata": {},
   "outputs": [],
   "source": [
    "# list down the sections of the website we'd like to scrape.\n",
    "review_subsections = [\n",
    "    \"home-appliances/\",\n",
    "    \"kitchen-appliances/\",\n",
    "    \"electronics/\",\n",
    "    \"broadband-telco/\",\n",
    "]"
   ]
  },
  {
   "cell_type": "code",
   "execution_count": 38,
   "metadata": {},
   "outputs": [
    {
     "name": "stdout",
     "output_type": "stream",
     "text": [
      "Broadband-Telco/ doesn't have subsections/tags. Need to manually add.\n",
      "Broadband-Telco/ doesn't have subsections/tags. Need to manually add.\n"
     ]
    }
   ],
   "source": [
    "to_add = []\n",
    "for sections in review_subsections:\n",
    "    url = f\"https://techrakyat.com/{sections}\"\n",
    "    response = requests.get(url, cookies=cookies, headers=headers)\n",
    "\n",
    "    soup = BeautifulSoup(response.text, \"lxml\")\n",
    "\n",
    "    block = soup.find('div',attrs = {\"class\":\"elementor-inner\"})\n",
    "    \n",
    "    for link in block.find_all('h2', attrs = {\"class\":\"elementor-heading-title elementor-size-default\"}):\n",
    "        try:\n",
    "            href = link.find('a').get('href')\n",
    "            required_section = href.split(\".\")[-1][4:]\n",
    "            to_add.append(required_section)\n",
    "        except:\n",
    "            print(f\"{sections.title()} doesn't have subsections/tags. Need to manually add.\")\n",
    "            pass"
   ]
  },
  {
   "cell_type": "code",
   "execution_count": 39,
   "metadata": {},
   "outputs": [
    {
     "data": {
      "text/plain": [
       "['tag/home-entertainment/',\n",
       " 'tag/furniture/',\n",
       " 'tag/cleaning/',\n",
       " 'tag/cooling-heating/',\n",
       " 'tag/laundry/',\n",
       " 'tag/large-kitchen-appliances/',\n",
       " 'tag/small-kitchen-appliances/',\n",
       " 'tag/baking/',\n",
       " 'tag/coffee/',\n",
       " 'tag/smartphone/',\n",
       " 'tag/headphones/',\n",
       " 'tag/laptop/',\n",
       " 'tag/networking/',\n",
       " 'tag/computer/',\n",
       " 'tag/accessories/']"
      ]
     },
     "execution_count": 39,
     "metadata": {},
     "output_type": "execute_result"
    }
   ],
   "source": [
    "to_add"
   ]
  },
  {
   "cell_type": "markdown",
   "metadata": {},
   "source": [
    "### 2.0 Scraping links of pages with numbers"
   ]
  },
  {
   "cell_type": "code",
   "execution_count": 40,
   "metadata": {},
   "outputs": [],
   "source": [
    "all_sections = [\n",
    "    \"reviews/\",\n",
    "    \"tips/\",\n",
    "    \"buying-guides-malaysia/\",\n",
    "    \"tag/best-in-singapore/\",\n",
    "    \"bm/\"\n",
    "]"
   ]
  },
  {
   "cell_type": "code",
   "execution_count": 41,
   "metadata": {},
   "outputs": [],
   "source": [
    "# add the subsections from reviews\n",
    "all_sections.extend(to_add)"
   ]
  },
  {
   "cell_type": "code",
   "execution_count": 42,
   "metadata": {},
   "outputs": [
    {
     "name": "stdout",
     "output_type": "stream",
     "text": [
      "Buying-Guides-Malaysia/ doesn't have page numbers.\n",
      "Tag/Best-In-Singapore/ doesn't have page numbers.\n",
      "Tag/Home-Entertainment/ doesn't have page numbers.\n",
      "Tag/Furniture/ doesn't have page numbers.\n",
      "Tag/Cleaning/ doesn't have page numbers.\n",
      "Tag/Laundry/ doesn't have page numbers.\n",
      "Tag/Baking/ doesn't have page numbers.\n",
      "Tag/Coffee/ doesn't have page numbers.\n",
      "Tag/Headphones/ doesn't have page numbers.\n",
      "Tag/Networking/ doesn't have page numbers.\n",
      "Tag/Computer/ doesn't have page numbers.\n"
     ]
    }
   ],
   "source": [
    "additional_pages = []\n",
    "for sections in all_sections:\n",
    "    url = f\"https://techrakyat.com/{sections}\"\n",
    "    response = requests.get(url, cookies=cookies, headers=headers)\n",
    "\n",
    "    soup = BeautifulSoup(response.text, \"lxml\")\n",
    "\n",
    "    block = soup.find('nav',attrs = {\"class\":\"elementor-pagination\"})\n",
    "    \n",
    "    if block is not None:\n",
    "        for link in block.find_all('a', attrs = {\"class\":\"page-numbers\"}):\n",
    "            try:\n",
    "                href = link.get('href')\n",
    "                page_nums = href.split(\".\")[-1][4:]\n",
    "                additional_pages.append(page_nums)\n",
    "            except:\n",
    "                print(f\"{sections.title()} doesn't have page numbers.\")\n",
    "    else:\n",
    "        print(f\"{sections.title()} doesn't have page numbers.\")"
   ]
  },
  {
   "cell_type": "code",
   "execution_count": 43,
   "metadata": {},
   "outputs": [
    {
     "data": {
      "text/plain": [
       "['reviews/page/2/',\n",
       " 'reviews/page/3/',\n",
       " 'reviews/page/4/',\n",
       " 'reviews/page/5/',\n",
       " 'reviews/page/2/',\n",
       " 'tips/page/2/',\n",
       " 'tips/page/3/',\n",
       " 'tips/page/4/',\n",
       " 'bm/page/2/',\n",
       " 'bm/page/3/',\n",
       " 'bm/page/4/',\n",
       " 'bm/page/5/',\n",
       " 'tag/cooling-heating/page/2/',\n",
       " 'tag/cooling-heating/page/3/',\n",
       " 'tag/large-kitchen-appliances/page/2/',\n",
       " 'tag/large-kitchen-appliances/page/3/',\n",
       " 'tag/small-kitchen-appliances/page/2/',\n",
       " 'tag/small-kitchen-appliances/page/3/',\n",
       " 'tag/small-kitchen-appliances/page/4/',\n",
       " 'tag/smartphone/page/2/',\n",
       " 'tag/smartphone/page/3/',\n",
       " 'tag/smartphone/page/4/',\n",
       " 'tag/laptop/page/2/',\n",
       " 'tag/accessories/page/2/']"
      ]
     },
     "execution_count": 43,
     "metadata": {},
     "output_type": "execute_result"
    }
   ],
   "source": [
    "additional_pages"
   ]
  },
  {
   "cell_type": "code",
   "execution_count": 44,
   "metadata": {},
   "outputs": [],
   "source": [
    "all_sections.extend(additional_pages)"
   ]
  },
  {
   "cell_type": "code",
   "execution_count": 45,
   "metadata": {},
   "outputs": [],
   "source": [
    "all_sections.extend([\"broadband-telco/\"])"
   ]
  },
  {
   "cell_type": "code",
   "execution_count": 46,
   "metadata": {},
   "outputs": [
    {
     "data": {
      "text/plain": [
       "45"
      ]
     },
     "execution_count": 46,
     "metadata": {},
     "output_type": "execute_result"
    }
   ],
   "source": [
    "len(all_sections)"
   ]
  },
  {
   "cell_type": "code",
   "execution_count": 47,
   "metadata": {},
   "outputs": [
    {
     "name": "stdout",
     "output_type": "stream",
     "text": [
      "Num. of unique sections: 44\n"
     ]
    }
   ],
   "source": [
    "pages_unique = list(set(all_sections))\n",
    "print(f'Num. of unique sections: {len(pages_unique)}')\n",
    "with open(f'techrakyat_all_sections.json', 'a') as f:\n",
    "    json.dump(pages_unique, f)"
   ]
  },
  {
   "cell_type": "markdown",
   "metadata": {},
   "source": [
    "### 3.0 Get hrefs for each article"
   ]
  },
  {
   "cell_type": "code",
   "execution_count": 48,
   "metadata": {},
   "outputs": [],
   "source": [
    "pages_unique = []\n",
    "with open(f'techrakyat_all_sections.json') as fopen:\n",
    "    links = json.load(fopen)\n",
    "pages_unique.extend(links)"
   ]
  },
  {
   "cell_type": "code",
   "execution_count": 49,
   "metadata": {},
   "outputs": [
    {
     "data": {
      "text/plain": [
       "['reviews/page/4/',\n",
       " 'tag/laundry/',\n",
       " 'tag/large-kitchen-appliances/page/3/',\n",
       " 'tag/smartphone/page/2/',\n",
       " 'tag/smartphone/page/4/',\n",
       " 'tag/cooling-heating/',\n",
       " 'reviews/page/5/',\n",
       " 'tag/large-kitchen-appliances/page/2/',\n",
       " 'tag/networking/',\n",
       " 'tag/computer/',\n",
       " 'tag/cooling-heating/page/2/',\n",
       " 'tag/cooling-heating/page/3/',\n",
       " 'tag/smartphone/',\n",
       " 'tag/laptop/page/2/',\n",
       " 'buying-guides-malaysia/',\n",
       " 'tag/best-in-singapore/',\n",
       " 'bm/page/4/',\n",
       " 'tag/accessories/',\n",
       " 'tag/smartphone/page/3/',\n",
       " 'bm/page/5/',\n",
       " 'tag/small-kitchen-appliances/page/4/',\n",
       " 'tag/furniture/',\n",
       " 'reviews/page/3/',\n",
       " 'broadband-telco/',\n",
       " 'tag/home-entertainment/',\n",
       " 'tag/laptop/',\n",
       " 'tag/baking/',\n",
       " 'tips/page/2/',\n",
       " 'bm/page/3/',\n",
       " 'tips/',\n",
       " 'tag/cleaning/',\n",
       " 'tag/small-kitchen-appliances/page/3/',\n",
       " 'bm/',\n",
       " 'tag/small-kitchen-appliances/',\n",
       " 'tag/coffee/',\n",
       " 'tag/headphones/',\n",
       " 'bm/page/2/',\n",
       " 'tag/small-kitchen-appliances/page/2/',\n",
       " 'tag/large-kitchen-appliances/',\n",
       " 'reviews/page/2/',\n",
       " 'reviews/',\n",
       " 'tips/page/3/',\n",
       " 'tips/page/4/',\n",
       " 'tag/accessories/page/2/']"
      ]
     },
     "execution_count": 49,
     "metadata": {},
     "output_type": "execute_result"
    }
   ],
   "source": [
    "pages_unique"
   ]
  },
  {
   "cell_type": "code",
   "execution_count": 50,
   "metadata": {},
   "outputs": [],
   "source": [
    "def crawl(sections):\n",
    "    while True:\n",
    "        try:\n",
    "            url = f\"https://techrakyat.com/{sections}\"\n",
    "            response = requests.get(url, cookies=cookies, headers=headers)\n",
    "            break\n",
    "        except Exception as e:\n",
    "            print(e)\n",
    "            time.sleep(1.0)\n",
    "\n",
    "    soup = BeautifulSoup(response.text, \"lxml\")\n",
    "\n",
    "    block = soup.find('div', attrs = {\"class\":\"site-content\"})\n",
    "    \n",
    "    if block is None:\n",
    "        return\n",
    "\n",
    "    for link in block.find_all('h3', attrs = {\"class\":\"elementor-post__title\"}):\n",
    "        try:\n",
    "            href = link.find('a').get('href')\n",
    "            hrefs.append(href)\n",
    "        except:\n",
    "            pass"
   ]
  },
  {
   "cell_type": "code",
   "execution_count": 52,
   "metadata": {},
   "outputs": [
    {
     "data": {
      "application/vnd.jupyter.widget-view+json": {
       "model_id": "c319efb8bd7a41069979f24bd17eebce",
       "version_major": 2,
       "version_minor": 0
      },
      "text/plain": [
       "  0%|          | 0/5 [00:00<?, ?it/s]"
      ]
     },
     "metadata": {},
     "output_type": "display_data"
    },
    {
     "name": "stdout",
     "output_type": "stream",
     "text": [
      "Num. of raw links: 315\n",
      "Num. of unique links: 221\n"
     ]
    }
   ],
   "source": [
    "max_worker = 10\n",
    "\n",
    "hrefs = []\n",
    "for i in tqdm(range(0, len(pages_unique), max_worker)):\n",
    "    gc.collect()\n",
    "    with ThreadPoolExecutor(max_workers=max_worker) as executor:\n",
    "        futures = {executor.submit(crawl, t): t for t in pages_unique[i: i + max_worker]}\n",
    "\n",
    "    for future in as_completed(futures):\n",
    "        future.result()\n",
    "\n",
    "print(f'Num. of raw links: {len(hrefs)}')\n",
    "hrefs_unique = list(set(hrefs))\n",
    "print(f'Num. of unique links: {len(hrefs_unique)}')\n",
    "with open(f'techrakyat-article-links.json', 'a') as f:\n",
    "    json.dump(hrefs_unique, f)"
   ]
  },
  {
   "cell_type": "markdown",
   "metadata": {},
   "source": [
    "### 4.0 Get text data from each article"
   ]
  },
  {
   "cell_type": "code",
   "execution_count": 53,
   "metadata": {},
   "outputs": [
    {
     "name": "stdout",
     "output_type": "stream",
     "text": [
      "Num. of articles to scrape: 221\n"
     ]
    }
   ],
   "source": [
    "# load articles that we need to scrape\n",
    "articles = []\n",
    "with open(f'techrakyat-article-links.json') as fopen:\n",
    "    article_links = json.load(fopen)\n",
    "articles.extend(article_links)\n",
    "\n",
    "print(f\"Num. of articles to scrape: {len(articles)}\")"
   ]
  },
  {
   "cell_type": "code",
   "execution_count": 65,
   "metadata": {},
   "outputs": [],
   "source": [
    "def crawl_article(url):\n",
    "    while True:\n",
    "        try:\n",
    "            response = requests.get(url, cookies=cookies, headers=headers)\n",
    "            break\n",
    "        except Exception as e:\n",
    "            print(e)\n",
    "            time.sleep(1.0)\n",
    "\n",
    "    soup = BeautifulSoup(response.text, \"lxml\")\n",
    "\n",
    "\n",
    "\n",
    "    try:\n",
    "        headline = soup.find('h1', class_=\"elementor-heading-title elementor-size-default\").text\n",
    "        words = soup.find('article', \n",
    "                          attrs = {\"class\":\"elementor-section elementor-top-section elementor-element elementor-element-6513bcc elementor-section-boxed elementor-section-height-default elementor-section-height-default\"}\n",
    "                          ) # post-body entry-content\n",
    "        content = words.text\n",
    "        comments = soup.find('div', attrs={\"class\": \"wpd-thread-list\"}).text\n",
    "\n",
    "    except Exception as e:\n",
    "        print('error in link:'+ url)\n",
    "        print(e)\n",
    "        return None\n",
    "\n",
    "    data = {\n",
    "        'url': url, \n",
    "        'headline': headline, \n",
    "        'content': content, \n",
    "        'comments': comments\n",
    "    }\n",
    "    return data"
   ]
  },
  {
   "cell_type": "code",
   "execution_count": 68,
   "metadata": {},
   "outputs": [
    {
     "name": "stdout",
     "output_type": "stream",
     "text": [
      "{'url': 'https://techrakyat.com/reviews/best-broadband-plan-malaysia/', 'headline': 'Best Broadband Plan – Compare Unifi, Maxis & Time Fibre', 'content': '\\n\\n\\n\\n\\n\\n\\n\\nThe new Ministry of Communications and Multimedia had urged all broadband service providers to lower down their existing pricing and make high-speed internet available for ALL. The big three players in Malaysia, namely Unifi, Maxis Fibre and Time Fibre, responded\\xa0by pushing out higher internet speed for existing subscribers and launching cheaper subscription tiers.\\nThe ever-stagnant broadband market is now shaken up. Suddenly, you get news of turbo speed upgrade and new plans from service providers every now and then. At the same time, it also caught my attention to examine which one really offers the best broadband plan in Malaysia right now.\\n\\n\\n\\n\\n\\nTable of Contents\\nToggle\\nHow I pickThe analysis: Unifi vs. Maxis Fibre vs. Time FibreHow to choose the best broadband plan in MalaysiaQuick guide for a wifi router upgradeConclusion\\nHow I pick\\nIt’s never been easier to choose a broadband service than it is now. Why?\\n1. IPTV should not be in your consideration.\\nFor info, Unifi still bundles their rebranded PlayTV (formerly HyppTV) together with the broadband services. But Maxis Fibre no longer forced-bundle Astro IPTV. The basic bundled IPTV package usually provides very poor value, they only bundle it to encourage you to upgrade and spend more. There are so many options out there now like DimSum, iflix, Netflix, Viu, Tonton or even YouTube?\\n2. Fixed line call should not be in your consideration.\\nI no longer encounter anyone using the fixed line to make calls nowadays except for the elderly. Mobile phones are so common and almost everyone has one now.\\nWhen we strip down all the noise and craps, the core service for home broadband is only and always the internet access. In that case, we left with only three factors that come into play.\\n\\nPrice per download speed ratio\\xa0– How much Ringgit you spend per Mbps of internet speed. The lower the better.\\nQuota\\xa0– In Malaysia, you know everyone’s end goal is to have unlimited internet. You know something is wrong when you see a limited quota for home broadband.\\nStability & latency\\xa0– This is a very subjective factor that I can’t really comment much. The internet services performance vary across different location and there is really no one consistent winner.\\xa0Your best bet? Ask your neighbour’s experience with the internet service they are currently using.\\n\\nTo be honest, both Unifi and Maxis deliver the same performance and experience where I live. I have tried them both and they are really equivalently good.\\nIn most cases when you have a poor internet connection, it is most likely you’re connecting through Wifi and the limitation is from the Wifi router’s coverage. The root cause might not be internet service itself.\\nThe analysis: Unifi vs. Maxis Fibre vs. Time Fibre\\nLet’s compare all the broadband packages we have now including the new plans and the old turbo-ed plans.\\nBroadband plans are sorted from the cheapest price per download speed to the most expensive one.\\nLet me further elaborate on the table above and go through each of the services. We will only focus on download speed and quota. Free fixed-line call time and IPTV are just icing on the cake which is nice to have but not a necessity. I will put aside these 2 factors from my evaluation. Those who lazy to read all the details. Can click here to help you choose the best broadband plan.\\n\\nTime 1Gbps – This package has the cheapest price per download speed ratio. But it is just overkill for a normal household. Why pay extra when 95% of the time you don’t really fully utilize the available download speed. Not recommended for an average household, only for suitable those with multiple heavy users and equipped with a top of line Wifi router to support the 1Gbps speed.\\nTime 500Mbps –\\xa0This is the best RM139 package where you get a sweet 500Mbps download speed. The RM139 Unifi turbo-ed only get you 300Mbps and the new Unifi and Maxis RM125 package only gives a mere 100Mbps. Recommended for those who know they need more than 100Mbps. Router upgrade is necessary to achieve 500Mbps wifi speed.\\nUnifi Pro (Turbo-ed) 800Mbps – This package is overpriced before the turbo and still overpriced after the turbo-ed. Not recommended for any sane person. There is a better use of your money. If I am on this plan, I will cancel it right away and subscribe to the new Unifi 100Mbps to save RM100+ per month. Don’t forget that you began with only 100Mbps anyways. 100 Mbps should serve you well.\\n\\xa0Unifi Advanced Plus (Turbo-ed) 500Mbps\\xa0– Another overpriced package. Not recommended, and should subscribe to the new 100Mbps Unifi Plan.\\nUnifi Advanced (Turbo-ed)\\xa0300Mbps– You hit the jackpot for Unifi subscription plan. Even if you have not been turbo-ed. I will advise you to wait a little bit for the turbo speed to implement for your area. Given the current 100Mbps Unifi plan already cost RM129, you know it is impossible that Unifi going to offer 300Mbps at RM139 in the future. Strongly recommend anyone who has this old Unifi Advanced 30Mbps plan (300Mbps after turbo) to stick around with it while it lasts.\\nTime 100Mbps\\xa0– The cheapest 100Mbps home broadband in the market right now. If Time Fibre is available at your area, subscribe to this package instead of Unifi or Maxis. Save the RM30 or use it to subscribe for better video streaming services, Netflix or anything. Highly recommended.\\nUnifi 100Mbps\\xa0– This is your second best choice for 100 Mbps package. Maxis 100Mbps offer at similar price, download & upload speed and unlimited quota but without the free IPTV. In this case, Unifi’s free IPTV plus 600 minutes call outvalue Maxis’s unlimited call feature. Recommended for those who not able to get Time Fibre.\\nMaxis One Home 100Mbps – Not recommended due to reasons as mentioned above.\\nUnifi Basic 30Mbps – Considering the pricing history of Unifi services, RM79 for 30Mbps is really very budget and mindful for users. BUT, 60GB quota limitation is a deal-breaker for me. We already have all kinds of quota and limitation on our mobile plans. We certainly don’t need another restriction at home. Thanks but no thanks on this one. Obviously not recommended.\\nMaxis One Home 30Mbps – RM89 for 30Mbps with unlimited quota. You have no other choice but this is the cheapest broadband plan\\xa0in the market that gives you unlimited quota. Highly recommended for the budget conscious users.\\n\\nHow to choose the best broadband plan in Malaysia\\nBased on the above analysis, I have developed this simple flow chart to help new subscribers to quickly match with their ideal broadband service.\\nTechrakyat version of “How to choose Malaysia home broadband for dummies”. Make up your mind? Click here to apply for Unifi, Maxis Fibre or Time Internet.\\nApart from the download speed and quota, one of the main consideration is whether you will be relocating in the next 24 months, because:\\n\\nUnifi has no charges for relocation to a new area. Refer Unifi community answer here.\\nMaxis has an RM200 relocation fee. Refer Maxis FAQ here.\\n\\nStill cannot settle on which is the best broadband plan for yourself? Here’s a couple of additional information for your knowledge.\\n\\n\\xa0HD video (720p) requires minimum 2.5Mbps and full HD (1080p) required 4.0Mbps\\n4K video streaming requires minimum 15Mbps and 25Mbps is recommended.\\xa030Mbps is only good for single streaming of 4K video.\\nIf you often stream 4K video and other users in the house who also need the internet for browsing or gaming, it is better to get 100Mbps to ensure a smooth experience.\\n\\nMy broadband selection guide here is meant for general consumers in Malaysia. There are always different people with different needs like Youtubers who need high upload speed to upload video, Twitch streamers who live stream at full HD quality, or some who hates p2p throttling.\\nSo, don’t take my word for it and do your own research if you have a specific kind of requirement.\\nQuick guide for a wifi router upgrade\\nThis is the part where many people miss it but it is too important to ignore. So, I wanna touch a little bit on before we end this article.\\nThe free wifi router that comes with your broadband plan is only good for anything below 300Mbps. If you have decided to subscribe to plans which exceed 300Mbps, router upgrade is a must. The LAN connection may still able to give you full speed but they will get bottleneck on the wifi connection.\\nEven if you’re using below 300Mbps plan, the stock router might have limited wifi coverage that less desirable to your need. So, it is always recommended to upgrade your wifi router or add an additional router/mesh to optimize your wifi network performance.\\nI highly recommend you to visit blacktubi.com, one of our local blogger who focuses on router and networking gear reviews to learn more. Besides that, I have personally compiled a list of best Wi-Fi router for Unifi, Maxis & Time Broadband.\\nConclusion\\nIf you want the cheapest unlimited quota broadband plan, go for Maxis 30Mbps @ RM89. If you want a very comfortable high-speed internet at home, go for Time 100Mbps @ RM99 or go for Unifi 100Mbps @ RM129.\\nJust another reminder to those with the old Unifi Advanced RM139 plan, you’re the lucky few who enjoy the best value of money Unifi broadband plan so please stick with it. *Update 10 Dec 2019: Those with Unifi Advanced RM139 plan take note that this deal is only as good as your promotion contract period last. I received information that Unifi will revert to RM199 per month once the promo contract period ends.*\\nIf you like what you read here, subscribe to my Facebook Page or follow me on Twitter. Drop me a comment if you have any inquiries.\\n\\n\\n\\n\\n\\n\\n\\n\\n\\n\\n\\nLazada 08.08 Free Shipping Vouchers & Cashback \\n\\n\\n\\n\\n\\n\\n\\n\\n\\n\\n\\n\\nCollect\\n\\n\\n\\n\\n\\n\\n\\n\\n\\n\\n\\n\\n\\n\\n\\n\\n\\n\\n\\n\\n\\n\\n\\n\\n\\n\\nShopee 08.08 Free Shipping Vouchers & Cashback \\n\\n\\n\\n\\n\\n\\n\\n\\n\\n\\n\\n\\nCollect\\n\\n\\n\\n\\n\\n\\n\\n\\n\\n\\n\\n\\n\\n\\n\\n\\n', 'comments': '\\n\\n\\n\\n\\nDin\\n\\n\\n\\n2 years ago\\n\\n\\n\\n\\n\\n\\n\\nGood comparison. I like the flow chart you did. Easy for general consumers to understand. Thanks Kai.\\n\\n\\n\\n\\n\\n\\n3\\n\\n\\n\\n\\n\\n\\nReply\\n\\n\\n\\n\\n\\n\\n\\n\\nlocusinjuria\\n\\n\\n\\n3 years ago\\n\\n\\n\\n\\n\\n\\n\\nVery good and informative input on the Data Plan. Kudos…! Tq TechRakyat\\n\\n\\n\\n\\n\\n\\n0\\n\\n\\n\\n\\n\\n\\nReply\\n\\n\\n\\n\\n\\n\\n\\n\\nK65\\n\\n\\n\\n3 years ago\\n\\n\\n\\n\\n\\n\\n\\nHi, which one is your recommendation? Maxis(100mbps) +Astro (Starter package) bundle  or Unifi (100mbps) + HyppTV? If Im right, he pricing for both is around 150myr.\\n\\n\\n\\n\\n\\n\\n0\\n\\n\\n\\n\\n\\n\\nReply\\n\\n\\n\\n\\n\\n\\n\\n\\n\\n\\n\\nhong\\n\\n\\n\\n3 years ago\\n\\n\\n\\n\\n\\n\\n\\n\\nReply to\\xa0\\n\\nK65\\n\\n\\n\\nmaxis\\n\\n\\n\\n\\n\\n\\n0\\n\\n\\n\\n\\n\\n\\nReply\\n\\n\\n\\n\\n\\n\\n\\n\\nazry\\n\\n\\n\\n3 years ago\\n\\n\\n\\n\\n\\n\\n\\ngood infomation\\n\\n\\n\\n\\n\\n\\n0\\n\\n\\n\\n\\n\\n\\nReply\\n\\n\\n\\n\\n\\n\\n\\n\\n\\n\\nAuthor\\n\\n\\n\\n\\n\\nKai\\n\\n\\n\\n3 years ago\\n\\n\\n\\n\\n\\n\\n\\n\\nReply to\\xa0\\n\\nazry\\n\\n\\n\\nThanks for the compliment.\\n\\n\\n\\n\\n\\n\\n-1\\n\\n\\n\\n\\n\\n\\nReply\\n\\n\\n\\n\\n\\n\\n\\n\\nIskandar\\n\\n\\n\\n3 years ago\\n\\n\\n\\n\\n\\n\\n\\nWhat is so great about unifi 30mbps at rm139? It’s a whole lot costly at they even forced to bundle with the tv for an extra 50. Sounds useless for me as right now unifi even offered 30mbps unlimited at rm89.\\n\\n\\n\\n\\n\\n\\n0\\n\\n\\n\\n\\n\\n\\nReply\\n\\n\\n\\n\\n\\n\\n\\n\\n\\n\\nAuthor\\n\\n\\n\\n\\n\\nKai\\n\\n\\n\\n3 years ago\\n\\n\\n\\n\\n\\n\\n\\n\\nReply to\\xa0\\n\\nIskandar\\n\\n\\n\\nI don’t recommend the latest unifi 30mbps.\\nIn my article, I only recommend people to held with the old Unifi Advance 30Mbps  because eventually, it will get turbo-ed to 300Mbps. U only have to pay RM139 whereas current 300Mbps unifi package cost as much as RM199.\\n\\n\\n\\n\\n\\n\\n1\\n\\n\\n\\n\\n\\n\\nReply\\n\\n\\n\\n\\n\\n\\n\\n\\n\\n\\n\\nAndy\\n\\n\\n\\n3 years ago\\n\\n\\n\\n\\n\\n\\n\\n\\nReply to\\xa0\\n\\nKai\\n\\n\\n\\nHello.. I been using for package for a few years. RM139.00 – 30MB VDSL.  I was told my apartment cannot upgrade to 300MB. No TM fibre line.  So are TM going to hookup the fibre line?\\n\\n\\n\\n\\n\\n\\n0\\n\\n\\n\\n\\n\\n\\nReply\\n\\n\\n\\n\\n\\n\\n\\n\\n\\n\\nAuthor\\n\\n\\n\\n\\n\\nKai\\n\\n\\n\\n3 years ago\\n\\n\\n\\n\\n\\n\\n\\n\\nReply to\\xa0\\n\\nAndy\\n\\n\\n\\nFew things here:\\n1. 30MB VDSL? I thought all streamyx users have been converted to unifi lite package which cost only RM69? You should really drop by a nearby TM center to check it out. Otherwise, you’re paying extra for nothing.\\n2. Even if TM hook up the fiber line to your area.  You still have to check whether your apartment existing internal hardware facility runs on what type of cable, is it fiber, cat4, cat5 or cat5e ? Then only you know which one is the bottleneck.\\n\\n\\n\\n\\n\\n\\n0\\n\\n\\n\\n\\n\\n\\nReply\\n\\n\\n\\n\\n\\n\\n\\n\\nAndrew\\n\\n\\n\\n3 years ago\\n\\n\\n\\n\\n\\n\\n\\nVery good and detailed explanation!\\n\\n\\n\\n\\n\\n\\n0\\n\\n\\n\\n\\n\\n\\nReply\\n\\n\\n\\n\\n\\n\\n\\n\\npercuma88\\n\\n\\n\\n4 years ago\\n\\n\\n\\n\\n\\n\\n\\nVery informative and accurate report on Broadband plan for 2019.\\nExcept for a silly typo in the Conclusion, Maxis 80Mbps @ RM89\\ninstead of Maxis 30Mbps @ RM89\\n.\\nNonetheless, a great comparison.\\n\\n\\n\\n\\n\\n\\n0\\n\\n\\n\\n\\n\\n\\nReply\\n\\n\\n\\n\\n\\n\\n\\n\\n\\n\\nAuthor\\n\\n\\n\\n\\n\\nKai\\n\\n\\n\\n4 years ago\\n\\n\\n\\n\\n\\n\\n\\n\\nReply to\\xa0\\n\\npercuma88\\n\\n\\n\\nThanks for highlighting.\\n\\n\\n\\n\\n\\n\\n0\\n\\n\\n\\n\\n\\n\\nReply\\n\\n\\n\\n\\n \\n\\n'}\n"
     ]
    }
   ],
   "source": [
    "# test\n",
    "x = crawl_article(\"https://techrakyat.com/reviews/best-broadband-plan-malaysia/\")\n",
    "print(x)"
   ]
  },
  {
   "cell_type": "code",
   "execution_count": 71,
   "metadata": {},
   "outputs": [
    {
     "data": {
      "application/vnd.jupyter.widget-view+json": {
       "model_id": "50ca9db467024a74a28b364d58913a8b",
       "version_major": 2,
       "version_minor": 0
      },
      "text/plain": [
       "  0%|          | 0/12 [00:00<?, ?it/s]"
      ]
     },
     "metadata": {},
     "output_type": "display_data"
    },
    {
     "name": "stdout",
     "output_type": "stream",
     "text": [
      "error in link:https://techrakyat.com/bm/peti-sejuk-terbaik-malaysia/\n",
      "'NoneType' object has no attribute 'text'\n",
      "error in link:https://techrakyat.com/reviews/telco-plan-malaysia/\n",
      "'NoneType' object has no attribute 'text'\n"
     ]
    }
   ],
   "source": [
    "max_worker = 20\n",
    "\n",
    "for i in tqdm(range(0, len(articles), max_worker)):\n",
    "    gc.collect()\n",
    "    with ThreadPoolExecutor(max_workers=max_worker) as executor:\n",
    "        futures = {executor.submit(crawl_article, t): t for t in articles[i: i + max_worker]}\n",
    "\n",
    "    for future in as_completed(futures):\n",
    "        result = future.result()\n",
    "        if result:\n",
    "            with open(f'techrakyat-scraped-data.jsonl', 'a') as final:\n",
    "                json.dump(result, final)\n",
    "                final.write('\\n')"
   ]
  },
  {
   "cell_type": "code",
   "execution_count": 77,
   "metadata": {},
   "outputs": [
    {
     "name": "stdout",
     "output_type": "stream",
     "text": [
      "{'url': 'https://techrakyat.com/bm/peti-sejuk-terbaik-malaysia/', 'headline': '10 Peti Sejuk Terbaik Malaysia – 5 Bintang', 'content': '\\n\\n\\n\\n\\n\\n\\n\\nKini, kita boleh membeli pelbagai jenis peti sejuk di Malaysia. Antara model-model peti sejuk yang boleh didapati termasuk peti sejuk satu-pintu, 2-pintu, french door, dan peti ais mini.\\nTerdapat juga peti sejuk pintar yang dilengkapi dengan skrin sentuh dan kamera, jadi pengguna boleh menyemak barang yang simpan dalam peti sejuk dengan menggunakan telefon pintar sahaja.\\n\\n\\n\\nUntuk mencari peti sejuk terbaik di Malaysia, kami telah menyelidik banyak jenama terkemuka peti sejuk seperti Panasonic, Midea, Toshiba, Midea, Hisense, Samsung dan LG.\\n\\n\\nTable of Contents\\nToggle\\nApakah jenama peti sejuk terbaik di Malaysia?1. Toshiba GR-AG66MA2. Peti Seuk Panasonic 422L 2-Pintu3. Peti Sejuk 2-Pintu Midea MDRT268MTB284. Toshiba GR-A28MU5. Peti Sejuk Hisense RS666N4ACN 620L  6. Peti sejuk inverter dengan dispenser air Toshiba GR-RS637WE7. Peti Sejuk SAMSUNG Family Hub RS62T5F01B48. LG GC-X257CSES9. Peti Air 1-Pintu Midea MDRD229FGD42-MY10. Peti Sejuk Mini Hisense 60LBagaimana kita memilih peti sejuk terbaik?Kesimpulan\\nApakah jenama peti sejuk terbaik di Malaysia?\\nPeti sejuk terbaik di Malaysia ialah Toshiba GR-AG66MA kerana ia mempunyai kapasiti yang sangat besar, praktikal, dan mempunyai reka bentuk yang sepadan dengan rumah moden.\\nTambahan pula, ia adalah peti sejuk bertaraf 5-bintang jimat tenaga. Ia dilengkapi dengan kompressor inverter yang datang dengan waranti selama 12 tahun.\\nJika anda tidak menyukai peti sejuk top freezer,  sila lihat senarai penuh 10 jenama peti sejuk terbaik di Malaysia di bawah:\\n\\nPeti sejuk 5 bintang jimat elektrik terbaik: Toshiba GR-AG66MA\\nPeti sejuk bottom freezer terbaik: Panasonic NR-BX421WGWM\\nPeti sejuk 2-pintu murah: Midea MDRT267MTB30\\nPeti sejuk inverter murah terbaik: Toshiba GR-A28MS\\nPeti sejuk side-by-side terbaik: Hisense RS666N4ACN\\nPeti sejuk dengan dispenser ais terbaik: Toshiba GR-RS637WE\\nPeti sejuk pintar terbaik: SAMSUNG Family Hub fridge\\nPeti sejuk French door terbaik: LG GC-X257CSES\\nPeti sejuk 1-pintu terbaik: Midea MDRD229FGD42-MY\\nPeti ais mini terbaik: Hisense Mini Refrigerator\\n\\n\\n1. Toshiba GR-AG66MA\\nPeti sejuk 5 bintang jimat elektrik terbaik\\n\\nBest deal on Lazada Best deal on Shopee\\nToshiba GR-AG66MA ialah peti sejuk terbaik bagi kebanyakan orang Malaysia. Ia mempunyai kapasiti bersih yang sangat besar iaitu 609 liter. \\nIa adalah sebuah peti sejuk top freezer yang amat konvensional. Ini bermaksud peti bawahnya  ialah untuk cooling dan peti atas atas ialah peti ais beku.\\nIa dikuasakan oleh kompressor inverter dan mempunyai kecekapan tenaga 5-bintang.\\nPintu kaca hitam pada peti sejuk bukan sahaja menjadikannya sangat elegan. Dan ia kelihatan lebih moden berbanding warna silver atau warna kelabu yang biasa didapati pada peti sejuk yang.\\nSelain itu, kesan gris dan asap daripada memasak boleh dibersih dengan senang.\\nSatu ciri yang unik pada peti sejuk ini ialah pengawal suhu pada pintu dan pembuat ais automatik yang mudah.\\n\\n\\n\\nToshiba menggunakan Ag+ BIO Deodorizer dalam ruang penyejuk bekunya, sistem ini boleh menyekat pertumbuhan bakteria dan kuman. \\nDi dalam rak bawah, penapis fotomangkin digunakan untuk menukar VOC berbahaya kepada tidak berbahaya.\\nToshiba GR-AG66MA memberi waranti am 1 tahun dan waranti kompresor 12 tahun.\\nKelebihan:\\n\\nAg+ Bio Deodorizer\\nTouch panel untuk mengawal suhu\\nMod ECO \\nInverter compressor\\xa0\\n5-bintang jimat elektrik\\nKaca tempered glass moden\\nAis maker automatik\\n\\n\\n2. Peti Seuk Panasonic 422L 2-Pintu\\nBest Bottom Freezer Refrigerator\\n\\nBest deal on Lazada Best deal on Shopee\\nPeralatan rumah Panasonic sentiasa popular di kalangan rakyat Malaysia. Panasonic NR-BX421WGWM ialah sebuah peti sejuk 422 liter dengan freezer di bawah. \\nModel ini mempunyai 2 pilihan warna, iaitu putih dah hitam.\\nPeti Sejuk Panasonic ini menggunakan Sensor Econavi yang serupa dengan yang digunakan padanya penghawa dingin dan kipas siling.\\nDengan kompresor inverter, ia dikatakan menggunakan tenaga elektrik 40% kurang daripada peti sejuk bukan inverter.\\nPeti ais ini mempunyai compartment khas PrimeFresh+. Ia boleh membekukan daging dan ikan dengan lebih cepat pada suhu yang paling ideal, -3 darjah celsius. \\nSuhu ini dikenali sebagai soft-frozen. Makanan yang disimpan pada suhu ini boleh mengekalkan kesegarannya sebanyak 7 hari tanpa dicairkan.\\nDengan menggunakan filter ion silver, Ag Clean boleh menyekat 99.9% pertumbuhan bakteria dalam peti sejuk dan menghilangkan sebarang bau busuk.\\nPeti sejuk Panasonic NR-BX421WGWM dilengkapi dengan 1 tahun waranti am dan 12 tahun waranti bagi kompresor.\\n\\n3. Peti Sejuk 2-Pintu Midea MDRT268MTB28\\nPeti Sejuk 2-Pintu Murah\\n\\nBest deal on Lazada Best deal on Shopee\\nJika anda tengah mencari peti sejuk 2-pintu murah, maka anda perlu melihat Midea MDRT268MTB28. Ia adalah peti sejuk inverter 200L (kapasiti bersih 179L) dengan freezer di atas.\\nIa menggunakan teknologi Inverter Quattro, yang memastikan penyejukan yang stabil dan penggunaan tenaga yang cekap. \\nWalaupun begitu,ia mencapai penarafan 4 bintang jimat elektrik.\\nCiri yang paling menarik tentang Peti Sejuk Midea ini ialah pintu yang boleh diterbalikkan. Pintu peti sejuk ini boleh dipasang untuk membuka sama ada ke kiri ataupun ke kanan.\\nLagi, Midea MDRT268MTB28 dijual pada harga kurang daripada RM900, menjadikannya peti sejuk inverter 2-pintu paling murah di Malaysia.\\n\\n4. Toshiba GR-A28MU\\nPeti sejuk inverter murah terbaik\\n\\nBest deal on Lazada Best deal on Shopee\\nToshiba GR-A28MU ialah pilihan utama saya untukpeti ais inverter bajet terbaik. \\nPintu hadapannya dihiasi dengan kaca tempered glass berwarna gelap. Ia kelihatan amat elegan pada pandangan pertama.\\nPeti sejuk 2-pintu Toshiba lebih baik jimat elektrik daripada Midea MDRT268MTB28. Ia diberi penarafahn 5-bintang jimat elektrik\\nBukan itu sahaja, malah ia juga lebih besar daripada Midea dan mempunyai kapasiti bersih yang lebih besar iaitu 233L.\\nPeti Sejuk Toshiba GR-A28MU \\xa0ini menawarkan waranti am satu tahun dan waranti kompresor dua belas tahun.\\n\\n5. Peti Sejuk Hisense RS666N4ACN 620L  \\nPeti sejuk side-by-side terbaik\\n\\nBest deal on Lazada Best deal on Shopee\\nHisense Side by Side 620L RS666N4ACN ialah peti sejuk besar dengan jumlah kapasiti kasar 620 liter dan kapasiti bersih 516 liter. Ia adalah salah satu peti sejuk side-by-side yang berharga mampu milik \\nPeti sejuk side-by-side membolehkan pengguna mengambil barang dari peti sejuk dengan lebih senang. \\nSelain itu, sesetengah orang berpendapat ia lebih cantik dan moden daripada peti sejuk top-freezer dan bottom-freezer.\\nPeti sejuk side-by-side mempunyai kapasiti penyimpanan yang lebih seimbang, iaitu 177 liter bagi ruang frozen dan 339 liter setiap ruang cooling.\\nSatu kelemahan peti ais ini ialah ia tidak menggunakan kompresor inverter.\\nMemandangkan kapasiti peti sejuk yang besar dan harganya yang berpatutan, saya rasa kekurangan ini boleh diterima.\\nAkhirnya, Hisense Side by Side 620L RS666N4ACN mempunyai waranti am 2 tahun dan waranti kompresor 12 tahun.\\n\\n6. Peti sejuk inverter dengan dispenser air Toshiba GR-RS637WE\\nPeti sejuk dengan dispenser air terbaik\\n\\nBest deal on Lazada Best deal on Shopee\\nJika anda hanya mempunyai bajet sekitar RM3000, anda harus melihat peti sejuk Toshiba GR-RS637 dengan dispenser ais.\\nWalaupun ia lebih mahal daripada peti sejuk Hisense RS666N4ACN , ia mempunyai beberapai kelebihan, termasuk kompresor inverter dan dispenser ais.\\nSelain itu, kipas blowernya juga dikuasakan oleh motor inverter. Hasilnya, peti sejuk Toshiba dapat menyejukdengan lebih cepat dan menggunakan lebih sedikit elektrik.\\nPeti sejuk ini mempunyai kawalan pintar pada panel pintu. Pengguna boleh  melaraskan suhu petak dari luar tanpa membuka pintu peti sejuk.\\nSecara keseluruhan, Peti sejuk Toshiba GR-RS637 berbaloi dengan harganya kerana ia mempunyai pelbagai ciri yang praktikal dan canggih.\\n\\n7. Peti Sejuk SAMSUNG Family Hub RS62T5F01B4\\nPeti sejuk saiz besar terbaik\\n\\nBest deal on Lazada Best deal on Shopee\\nPeti sejuk Samsung Family Hub RS62T5F01B4 sesuai dengan pengguna yang ingin melengkapkan rumah dengan peralatan rumah pintar.\\nIni adalah sebuah peti ais Samsung side-by-side yang sangat besar. Ia mempunyai kapasiti bersih sebanyak 628 liter.\\nCiri terpenting peti sejuk Samsung ini ialah fungsi Family Hub-nya. Pengguna boleh menyemak barang yang disimpan di dalam peti sejuk dengan menggunakan telefon pintar.\\nTambahan pula, anda boleh memainkan muzik dari Spotify dan video pada  Youtube dengan peti sejuk Samsung ini..\\nKelemahan terbesar peti ais ini ialah harganya yang mahal. Ia dijual pada harga lebih RM6700, kira-kira dua kali ganda harga peti sejuk Toshiba GR-RS637.\\nPeti Sejuk Samsung Family Hub ini mempunyai tempoh waranti yang sangat panjang. Ia mempunyai waranti am 2 tahun dan waranti kompresor selama 20 tahun!\\n\\n8. LG GC-X257CSES\\nPeti Ais French Door Terbaik\\n\\nBest deal on Lazada Best deal on Shopee\\nLG GC-X257CSES ialah sebuah peti sejuk pintu french door yang moden. Ia mempunyai ciri Instaview yang unik.\\nPengguna boleh melihat kandungan di dalam peti sejuk dengan mengetuk panel kaca. Oleh itu, ia juga dipanggil Peti sejuk LG “knock knock”.\\nSelain itu, Peti ais LG ini amat cekap tenaga kerana reka bentuk 4-pintunya boleh mengurangkan kehilangan suhu apabila pengguna membuka pintu . \\nIa juga menggunakan kompresor inverter. Oleh itu, ia diberi penarafan 5 bintang jimat elektrik.\\nSelain itu, ia mempunyai ciri LG Door Cooling yang boleh meniup udara sejuk dari pintu dan menyejukkan peti ais dengan lebih cepat dan sekata.\\nAkhirnya, LG GC-X257CSES juga mempunyai fungsi dispenser ais. Peti sejuk ini boleh mengeluarkan ais kiub dan ais hancur. Ia merupakan fungsi yang agak unik kerana kebanyak peti ais tidak mengeluarkan ais hancur.\\n\\n9. Peti Air 1-Pintu Midea MDRD229FGD42-MY\\nPeti Sejuk 1-Pintu Terbaik\\n\\nBest deal on Lazada Best deal on Shopee\\nPeti Sejuk 1-Pintu Midea MDRD229FGD42-MY ialah peti sejuk satu pintu murah terbaik. Ia merupakan peti sejuk 1-pintu dengan kapasiti yang besar, kapasiti kasar 163L dan kapasiti bersih 158L.\\nSaize peti sejuk Midea MDRD229FGD42-MY sesuai untuk dapur kecil, pejabat dan asrama.\\nKotak freezer-nya juga lebih luar berbanding peti sejuk lain.\\nPenyelenggaraan kotak freezer untuk peti ais ini juga amat mudah kerana ia dilengkapi dengan fungsi defrost separa automatik. Pengguna hanya perlu memutar tombol ke “defrost” untuk mula mencairkan frost yang berlebihan.\\n\\n10. Peti Sejuk Mini Hisense 60L\\nPeti Sejuk Mini Terbaik\\n\\nBest deal on Lazada Best deal on Shopee\\nPeti sejuk Mini Hisense 60L ialah peti ais mini murah terbaik. Di Shopee, ia adalah peti sejuk mini yang paling laris.\\nRuang dalam peti sejuk Hisense ini sangat praktikal. Ia sesuai untuk menyimpan minuman tin, minuman botol dan makanan ringan\\nDan saiznya yang kecil boleh diletakkan di dalam bilik tidur atau bilik asrama.\\nSatu kekurangan pada peti sejuk Hisense ialah ia tiada mempunyai lampu LED di dalamnya. \\nWalau bagaimanapun, peti sejuk Hisense ini berbaloi beli kerana ia murah dan ruang dalamnya yang praktikal \\n\\nBagaimana kita memilih peti sejuk terbaik?\\nUntuk memilih peti sejuk terbaik dan sesuai dengan keperluan anda, anda perlu memberi perhatian kepada empat faktor penting di bawah:\\n\\nJenis peti ais – Terdapat 5 jenis peti sejuk di pasaran: peti sejuk top freezer, peti sejuk bottom freezer, peti sejuk French door, peti sejuk pintu tunggal dan peti sejuk side-by-side\\nKapasiti peti ais – Jika anda tidak kerap memasak, anda boleh memilih peti sejuk bawah 300 liter. Kita boleh memgambil anggar 100 liter bagi setiap anggota rumah.\\nSaiz peti ais – Saiz peti sejuk penting, kerana banyak kondominium menyediakan kabinet built-in secara percuma di Malaysia. Jadi, pengguna tidak mempunyai banyak pilihan dan mesti membeli peti sejuk yang muat dengan ruang kabinet yang sedia ada.\\nFungsi extra – Kita tidak memerlukan fungsi extra yang banyak pada peti sejuk/peti ais, seperti dispenser air. Yang paling penting, ia jimat elektrik dan bertahan lama.\\n\\nKesimpulan\\nApabila membeli peti sejuk, setiap orang mempunyai keperluan dan citarasa yang berbeza. Kita perlu sentiasa ingat bahawa saiz dan ketahanan sesebuah peti sejuk adalah yang paling penting.\\nAnda mungkin berminat juga unutuk membaca ulasan kami bagi peti sejuk mini terbaik dan peti sejuk beku terbaik.\\nJika anda sedang menghiaskan dapur dapur anda, sila membaca ulasan peralatan dapur kami yang meliputi dapur gas terbaik, ketuhar, induction cooker, periuk nasi dan periuk tekanan.\\n\\n\\n\\n\\n\\n\\n\\n\\n\\n\\n\\n\\nLazada 08.08 Free Shipping Vouchers & Cashback \\n\\n\\n\\n\\n\\n\\n\\n\\n\\n\\n\\n\\nCollect\\n\\n\\n\\n\\n\\n\\n\\n\\n\\n\\n\\n\\n\\n\\n\\n\\n\\n\\n\\n\\n\\n\\n\\n\\n\\n\\nShopee 08.08 Free Shipping Vouchers & Cashback \\n\\n\\n\\n\\n\\n\\n\\n\\n\\n\\n\\n\\nCollect\\n\\n\\n\\n\\n\\n\\n\\n\\n\\n\\n\\n\\n\\n\\n\\n\\n', 'comments': ''}\n"
     ]
    }
   ],
   "source": [
    "\"\"\"\n",
    "The second webpage's text content lies in the form of a table.\n",
    "Hence, we'll have to ignore it.\n",
    "\"\"\"\n",
    "\n",
    "def crawl_last_article(url):\n",
    "    while True:\n",
    "        try:\n",
    "            response = requests.get(url, cookies=cookies, headers=headers)\n",
    "            break\n",
    "        except Exception as e:\n",
    "            print(e)\n",
    "            time.sleep(1.0)\n",
    "\n",
    "    soup = BeautifulSoup(response.text, \"lxml\")\n",
    "\n",
    "\n",
    "\n",
    "    try:\n",
    "        headline = soup.find('h1', class_=\"elementor-heading-title elementor-size-default\").text\n",
    "        words = soup.find('article', \n",
    "                          attrs = {\"class\":\"elementor-section elementor-top-section elementor-element elementor-element-6513bcc elementor-section-boxed elementor-section-height-default elementor-section-height-default\"}\n",
    "                          ) # post-body entry-content\n",
    "        content = words.text\n",
    "        # comments = soup.find('div', attrs={\"class\": \"wpd-thread-list\"}).text\n",
    "\n",
    "    except Exception as e:\n",
    "        print('error in link:'+ url)\n",
    "        print(e)\n",
    "        return None\n",
    "\n",
    "    data = {\n",
    "        'url': url, \n",
    "        'headline': headline, \n",
    "        'content': content, \n",
    "        'comments': \"\" # there's no comments on that webpage anyway\n",
    "    }\n",
    "    return data\n",
    "\n",
    "last_article = crawl_last_article(\"https://techrakyat.com/bm/peti-sejuk-terbaik-malaysia/\")\n",
    "print(last_article)"
   ]
  },
  {
   "cell_type": "code",
   "execution_count": 78,
   "metadata": {},
   "outputs": [],
   "source": [
    "with open(f'techrakyat-scraped-data-fixed.jsonl', 'a') as final:\n",
    "    json.dump(last_article, final)\n",
    "    final.write('\\n')"
   ]
  },
  {
   "cell_type": "code",
   "execution_count": 79,
   "metadata": {},
   "outputs": [
    {
     "name": "stdout",
     "output_type": "stream",
     "text": [
      "Num. of rows in dataframe: 220\n",
      "Num. of webpages with no content: Empty DataFrame\n",
      "Columns: [url, headline, content, comments]\n",
      "Index: []\n"
     ]
    },
    {
     "data": {
      "text/html": [
       "<div>\n",
       "<style scoped>\n",
       "    .dataframe tbody tr th:only-of-type {\n",
       "        vertical-align: middle;\n",
       "    }\n",
       "\n",
       "    .dataframe tbody tr th {\n",
       "        vertical-align: top;\n",
       "    }\n",
       "\n",
       "    .dataframe thead th {\n",
       "        text-align: right;\n",
       "    }\n",
       "</style>\n",
       "<table border=\"1\" class=\"dataframe\">\n",
       "  <thead>\n",
       "    <tr style=\"text-align: right;\">\n",
       "      <th></th>\n",
       "      <th>url</th>\n",
       "      <th>headline</th>\n",
       "      <th>content</th>\n",
       "      <th>comments</th>\n",
       "    </tr>\n",
       "  </thead>\n",
       "  <tbody>\n",
       "  </tbody>\n",
       "</table>\n",
       "</div>"
      ],
      "text/plain": [
       "Empty DataFrame\n",
       "Columns: [url, headline, content, comments]\n",
       "Index: []"
      ]
     },
     "execution_count": 79,
     "metadata": {},
     "output_type": "execute_result"
    }
   ],
   "source": [
    "final_test = pd.read_json('techrakyat-scraped-data-fixed.jsonl', lines=True)\n",
    "print(f\"Num. of rows in dataframe: {len(final_test)}\")\n",
    "\n",
    "# check if there's any articles with no content\n",
    "no_content = final_test[final_test['content'] == \"\"]\n",
    "print(f\"Num. of webpages with no content: {no_content}\")\n",
    "no_content.head(3)"
   ]
  }
 ],
 "metadata": {
  "kernelspec": {
   "display_name": "base",
   "language": "python",
   "name": "python3"
  },
  "language_info": {
   "codemirror_mode": {
    "name": "ipython",
    "version": 3
   },
   "file_extension": ".py",
   "mimetype": "text/x-python",
   "name": "python",
   "nbconvert_exporter": "python",
   "pygments_lexer": "ipython3",
   "version": "3.9.12"
  },
  "orig_nbformat": 4
 },
 "nbformat": 4,
 "nbformat_minor": 2
}
