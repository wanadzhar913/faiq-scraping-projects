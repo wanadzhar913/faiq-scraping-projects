{
 "cells": [
  {
   "cell_type": "code",
   "execution_count": 53,
   "metadata": {},
   "outputs": [],
   "source": [
    "import requests\n",
    "from bs4 import BeautifulSoup\n",
    "\n",
    "import json\n",
    "import time\n",
    "from tqdm import tqdm\n",
    "\n",
    "from concurrent.futures import ThreadPoolExecutor, as_completed"
   ]
  },
  {
   "cell_type": "markdown",
   "metadata": {},
   "source": [
    "### **1.0 Get article links**"
   ]
  },
  {
   "cell_type": "code",
   "execution_count": 58,
   "metadata": {},
   "outputs": [],
   "source": [
    "links = [\n",
    "\"gaming\",\n",
    "\"peranti-komputer\",\n",
    "\"tips-tricks\",\n",
    "\"ulasan-review\",\n",
    "\"bijak-berinternet\"\n",
    "]\n",
    "\n",
    "headers = {'User-Agent': 'Mozilla/5.0 (Windows NT 6.1; WOW64) AppleWebKit/537.36 (KHTML, like Gecko) Chrome/56.0.2924.76 Safari/537.36'} "
   ]
  },
  {
   "cell_type": "code",
   "execution_count": 57,
   "metadata": {},
   "outputs": [],
   "source": [
    "def crawl(url):\n",
    "    while True:\n",
    "        try:\n",
    "            r = requests.get(url,headers = headers)\n",
    "            break\n",
    "        except Exception as e:\n",
    "            print(e)\n",
    "            time.sleep(1.0)\n",
    "\n",
    "    soup = BeautifulSoup(r.text, \"lxml\")\n",
    "\n",
    "    block = soup.find('div',attrs = {\"class\":\"cm-content\"})\n",
    "    \n",
    "    if block is None:\n",
    "        return\n",
    "\n",
    "    for link in block.find_all('h2', attrs = {\"class\":\"cm-entry-title\"}):\n",
    "\n",
    "        href = link.find('a').get('href')\n",
    "\n",
    "        hrefs.append(href)"
   ]
  },
  {
   "cell_type": "code",
   "execution_count": 75,
   "metadata": {},
   "outputs": [
    {
     "name": "stdout",
     "output_type": "stream",
     "text": [
      "gaming\n",
      "https://mat-gaming.com/gaming\n",
      "2\n"
     ]
    },
    {
     "name": "stderr",
     "output_type": "stream",
     "text": [
      "100%|██████████| 2/2 [00:04<00:00,  2.13s/it]\n"
     ]
    },
    {
     "name": "stdout",
     "output_type": "stream",
     "text": [
      "peranti-komputer\n",
      "https://mat-gaming.com/peranti-komputer\n",
      "1\n"
     ]
    },
    {
     "name": "stderr",
     "output_type": "stream",
     "text": [
      "100%|██████████| 1/1 [00:01<00:00,  1.25s/it]\n"
     ]
    },
    {
     "name": "stdout",
     "output_type": "stream",
     "text": [
      "tips-tricks\n",
      "https://mat-gaming.com/tips-tricks\n",
      "1\n"
     ]
    },
    {
     "name": "stderr",
     "output_type": "stream",
     "text": [
      "100%|██████████| 1/1 [00:01<00:00,  1.27s/it]\n"
     ]
    },
    {
     "name": "stdout",
     "output_type": "stream",
     "text": [
      "ulasan-review\n",
      "https://mat-gaming.com/ulasan-review\n",
      "1\n"
     ]
    },
    {
     "name": "stderr",
     "output_type": "stream",
     "text": [
      "100%|██████████| 1/1 [00:01<00:00,  1.08s/it]\n"
     ]
    },
    {
     "name": "stdout",
     "output_type": "stream",
     "text": [
      "bijak-berinternet\n",
      "https://mat-gaming.com/bijak-berinternet\n",
      "1\n"
     ]
    },
    {
     "name": "stderr",
     "output_type": "stream",
     "text": [
      "100%|██████████| 1/1 [00:01<00:00,  1.13s/it]\n"
     ]
    }
   ],
   "source": [
    "max_worker = 10\n",
    "\n",
    "for t in links:\n",
    "    \n",
    "    hrefs = []\n",
    "    print(t)\n",
    "    url = f'https://mat-gaming.com/{t}'\n",
    "    print(url)\n",
    "    r = requests.get(url)\n",
    "    soup = BeautifulSoup(r.content, \"lxml\")\n",
    "    a = soup.find_all('a')\n",
    "    a = [a_.get('href') for a_ in a if a_.get('href')]\n",
    "    pgno = [a_ for a_ in a if 'page' in a_]\n",
    "\n",
    "    if pgno == []:\n",
    "        max_page = 1\n",
    "    else:\n",
    "        max_page = max([int(a_.split('page/')[1].replace('/','')) for a_ in pgno])\n",
    "\n",
    "    print(max_page)\n",
    "    \n",
    "    \"\"\"\n",
    "    Since there's not many pages/articles on the site, \n",
    "    it shouldn't be too complex or computation intensive. If there is \n",
    "    a need for a new page (only for the \"gaming\" section),\n",
    "    there doesn't seem to have a page 1.\n",
    "    \"\"\"\n",
    "    for i in tqdm(range(max_page)):\n",
    "        if max_page == 1:\n",
    "            urls = [f'{url}/']\n",
    "        else:\n",
    "            urls = [f'{url}/'] + [f'{url}/page/{a}' for a in pgno]\n",
    "    \n",
    "        for url in urls:\n",
    "            crawl(url)\n",
    "    \n",
    "    hrefs = list(set(hrefs))\n",
    "    with open(f'mat-gaming-{t}-link.json', 'a') as f:\n",
    "        json.dump(hrefs, f)"
   ]
  },
  {
   "cell_type": "code",
   "execution_count": 76,
   "metadata": {},
   "outputs": [
    {
     "name": "stdout",
     "output_type": "stream",
     "text": [
      "gaming\n",
      "peranti-komputer\n",
      "tips-tricks\n",
      "ulasan-review\n",
      "bijak-berinternet\n"
     ]
    }
   ],
   "source": [
    "url = []\n",
    "\n",
    "for t in links:\n",
    "    print(t)\n",
    "    with open(f'mat-gaming-{t}-link.json') as fopen:\n",
    "        href = json.load(fopen)\n",
    "    url.extend(href)"
   ]
  },
  {
   "cell_type": "code",
   "execution_count": 78,
   "metadata": {},
   "outputs": [
    {
     "data": {
      "text/plain": [
       "53"
      ]
     },
     "execution_count": 78,
     "metadata": {},
     "output_type": "execute_result"
    }
   ],
   "source": [
    "len(url)"
   ]
  },
  {
   "cell_type": "code",
   "execution_count": 80,
   "metadata": {},
   "outputs": [],
   "source": [
    "# get distinct urls only (remove duplicates)\n",
    "hrefs = list(set(url))"
   ]
  },
  {
   "cell_type": "code",
   "execution_count": 88,
   "metadata": {},
   "outputs": [],
   "source": [
    "with open(f'mat-gaming-link.json', 'a') as f:\n",
    "        json.dump(hrefs, f)"
   ]
  },
  {
   "cell_type": "code",
   "execution_count": 84,
   "metadata": {},
   "outputs": [
    {
     "data": {
      "text/plain": [
       "49"
      ]
     },
     "execution_count": 84,
     "metadata": {},
     "output_type": "execute_result"
    }
   ],
   "source": [
    "len(hrefs)"
   ]
  },
  {
   "cell_type": "code",
   "execution_count": 82,
   "metadata": {},
   "outputs": [],
   "source": [
    "def process_url(x):\n",
    "    \n",
    "    while True:\n",
    "        try:\n",
    "            r = requests.get(x, headers=headers)\n",
    "            break\n",
    "        except Exception as e:\n",
    "            print(e)\n",
    "            time.sleep(5.0)\n",
    "    \n",
    "    soup = BeautifulSoup(r.text, \"lxml\")\n",
    "\n",
    "    try:\n",
    "        headline = soup.find('h1', class_=\"cm-entry-title\").text\n",
    "        h = soup.find('div', class_=\"cm-post-content\")\n",
    "        p = [p.text for p in h.find_all(\"p\")]\n",
    "    except Exception as e:\n",
    "        print('error in link:'+ x)\n",
    "        print(e)\n",
    "        return None\n",
    "\n",
    "    \n",
    "    data = {'url': x, 'headline': headline, 'content': p}\n",
    "    return data"
   ]
  },
  {
   "cell_type": "code",
   "execution_count": null,
   "metadata": {},
   "outputs": [],
   "source": [
    "max_worker = 5\n",
    "\n",
    "for i in tqdm(range(0, len(hrefs), max_worker)):\n",
    "\n",
    "    with ThreadPoolExecutor(max_workers=max_worker) as executor:\n",
    "        futures = {executor.submit(process_url, t): t for t in hrefs[i: i + max_worker]}\n",
    "\n",
    "    for future in as_completed(futures):\n",
    "        result = future.result()\n",
    "        if result:\n",
    "            with open(f'mat-gaming.jsonl', 'a') as final:\n",
    "                json.dump(result, final)\n",
    "                final.write('\\n')"
   ]
  }
 ],
 "metadata": {
  "kernelspec": {
   "display_name": "base",
   "language": "python",
   "name": "python3"
  },
  "language_info": {
   "codemirror_mode": {
    "name": "ipython",
    "version": 3
   },
   "file_extension": ".py",
   "mimetype": "text/x-python",
   "name": "python",
   "nbconvert_exporter": "python",
   "pygments_lexer": "ipython3",
   "version": "3.9.12"
  },
  "orig_nbformat": 4
 },
 "nbformat": 4,
 "nbformat_minor": 2
}
