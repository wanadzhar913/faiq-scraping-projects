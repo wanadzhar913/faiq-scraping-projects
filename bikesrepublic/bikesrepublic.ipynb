{
 "cells": [
  {
   "cell_type": "code",
   "execution_count": 1,
   "metadata": {},
   "outputs": [],
   "source": [
    "import pandas as pd\n",
    "import json\n",
    "\n",
    "import requests\n",
    "from bs4 import BeautifulSoup\n",
    "\n",
    "import gc\n",
    "import time\n",
    "from tqdm.notebook import tqdm\n",
    "from concurrent.futures import ThreadPoolExecutor, as_completed"
   ]
  },
  {
   "cell_type": "code",
   "execution_count": 2,
   "metadata": {},
   "outputs": [],
   "source": [
    "# list down the sections of the website we'd like to scrape.\n",
    "sections = [\n",
    "    'features/tips/',\n",
    "    'news/bulletin/',\n",
    "    'news/international/',\n",
    "    'news/local-news/',\n",
    "    'news/newswire/',\n",
    "    'features/geared-up/',\n",
    "    'features/outings/',\n",
    "]"
   ]
  },
  {
   "cell_type": "markdown",
   "metadata": {},
   "source": [
    "This was a site that had infinite scrolling. It was a bit hard to find the page numbers but we got there by looking at *Inspect > Network > Docs*. After that, we pasted the link on https://curlconverter.com/ to get the below `cookies` & `headers`."
   ]
  },
  {
   "cell_type": "code",
   "execution_count": 3,
   "metadata": {},
   "outputs": [],
   "source": [
    "cookies = {\n",
    "    'PHPSESSID': '2k6ra51aiq8bkoffj41k3i7nl6',\n",
    "    '_gid': 'GA1.2.60285680.1694179075',\n",
    "    '__gads': 'ID=62a9074952e63892:T=1691302727:RT=1694179077:S=ALNI_MbifilTODQ4waB-NotcWZmrmqJGCQ',\n",
    "    '__gpi': 'UID=00000c2790829244:T=1691302727:RT=1694179077:S=ALNI_Mb4tZnjW_oAqV9zASTyNdddCPFd9A',\n",
    "    '_ga': 'GA1.1.984074356.1691302726',\n",
    "    '_ga_0MVNT427LM': 'GS1.1.1694179073.2.1.1694179269.0.0.0',\n",
    "}\n",
    "\n",
    "headers = {\n",
    "    'authority': 'www.bikesrepublic.com',\n",
    "    'accept': 'text/html,application/xhtml+xml,application/xml;q=0.9,image/avif,image/webp,image/apng,*/*;q=0.8,application/signed-exchange;v=b3;q=0.7',\n",
    "    'accept-language': 'en-US,en;q=0.9',\n",
    "    'cache-control': 'max-age=0',\n",
    "    # 'cookie': 'PHPSESSID=2k6ra51aiq8bkoffj41k3i7nl6; _gid=GA1.2.60285680.1694179075; __gads=ID=62a9074952e63892:T=1691302727:RT=1694179077:S=ALNI_MbifilTODQ4waB-NotcWZmrmqJGCQ; __gpi=UID=00000c2790829244:T=1691302727:RT=1694179077:S=ALNI_Mb4tZnjW_oAqV9zASTyNdddCPFd9A; _ga=GA1.1.984074356.1691302726; _ga_0MVNT427LM=GS1.1.1694179073.2.1.1694179269.0.0.0',\n",
    "    'referer': 'https://www.bikesrepublic.com/category/features/tips/',\n",
    "    'sec-ch-ua': '\"Chromium\";v=\"116\", \"Not)A;Brand\";v=\"24\", \"Google Chrome\";v=\"116\"',\n",
    "    'sec-ch-ua-mobile': '?0',\n",
    "    'sec-ch-ua-platform': '\"Windows\"',\n",
    "    'sec-fetch-dest': 'document',\n",
    "    'sec-fetch-mode': 'navigate',\n",
    "    'sec-fetch-site': 'same-origin',\n",
    "    'sec-fetch-user': '?1',\n",
    "    'upgrade-insecure-requests': '1',\n",
    "    'user-agent': 'Mozilla/5.0 (Windows NT 10.0; Win64; x64) AppleWebKit/537.36 (KHTML, like Gecko) Chrome/116.0.0.0 Safari/537.36',\n",
    "}"
   ]
  },
  {
   "cell_type": "markdown",
   "metadata": {},
   "source": [
    "### 1.0 Get number of pages"
   ]
  },
  {
   "cell_type": "code",
   "execution_count": 5,
   "metadata": {},
   "outputs": [
    {
     "name": "stdout",
     "output_type": "stream",
     "text": [
      "Scraping \"features/tips/\"\n",
      "'Features/Tips/' only has 13 pages.\n",
      "Scraping \"news/bulletin/\"\n",
      "'News/Bulletin/' only has 533 pages.\n",
      "Scraping \"news/international/\"\n",
      "'News/International/' only has 399 pages.\n",
      "Scraping \"news/local-news/\"\n",
      "'News/Local-News/' only has 190 pages.\n",
      "Scraping \"news/newswire/\"\n",
      "'News/Newswire/' only has 2 pages.\n",
      "Scraping \"features/geared-up/\"\n",
      "'Features/Geared-Up/' only has 43 pages.\n",
      "Scraping \"features/outings/\"\n",
      "'Features/Outings/' only has 49 pages.\n",
      "Num. of unique pages: 1229\n"
     ]
    }
   ],
   "source": [
    "pages = []\n",
    "for section in sections:\n",
    "    print(f'Scraping \"{section}\"')\n",
    "    i = 0\n",
    "    while section is not None:\n",
    "        url = f\"https://www.bikesrepublic.com/category/news/{section}page/{i}\"\n",
    "        i += 1\n",
    "        response = requests.get(url, cookies=cookies, headers=headers)\n",
    "        if response.status_code == 200:\n",
    "            pages.append(url)\n",
    "        else:\n",
    "            print(f\"'{section.title()}' only has {i-1} pages.\")\n",
    "            break\n",
    "\n",
    "pages_unique = list(set(pages))\n",
    "print(f'Num. of unique pages: {len(pages_unique)}')\n",
    "with open(f'bikesrepublic_numpages.json', 'a') as f:\n",
    "    json.dump(pages_unique, f)"
   ]
  },
  {
   "cell_type": "markdown",
   "metadata": {},
   "source": [
    "### 2.0 Get links in each page"
   ]
  },
  {
   "cell_type": "code",
   "execution_count": 20,
   "metadata": {},
   "outputs": [],
   "source": [
    "page_nums = []\n",
    "with open(f'bikesrepublic_numpages.json') as fopen:\n",
    "    links = json.load(fopen)\n",
    "page_nums.extend(links)"
   ]
  },
  {
   "cell_type": "code",
   "execution_count": 21,
   "metadata": {},
   "outputs": [],
   "source": [
    "def crawl(url):\n",
    "    while True:\n",
    "        try:\n",
    "            response = requests.get(url, cookies=cookies, headers=headers)\n",
    "            break\n",
    "        except Exception as e:\n",
    "            print(e)\n",
    "            time.sleep(1.0)\n",
    "\n",
    "    soup = BeautifulSoup(response.text, \"lxml\")\n",
    "\n",
    "    block = soup.find('div',attrs = {\"class\":\"td-ss-main-content\"})\n",
    "    \n",
    "    if block is None:\n",
    "        return\n",
    "\n",
    "    for link in block.find_all('h3', attrs = {\"class\":\"entry-title td-module-title\"}):\n",
    "        try:\n",
    "            href = link.find('a').get('href')\n",
    "            hrefs.append(href)\n",
    "        except:\n",
    "            pass"
   ]
  },
  {
   "cell_type": "code",
   "execution_count": 6,
   "metadata": {},
   "outputs": [
    {
     "ename": "NameError",
     "evalue": "name 'page_nums' is not defined",
     "output_type": "error",
     "traceback": [
      "\u001b[0;31m---------------------------------------------------------------------------\u001b[0m",
      "\u001b[0;31mNameError\u001b[0m                                 Traceback (most recent call last)",
      "Cell \u001b[0;32mIn[6], line 4\u001b[0m\n\u001b[1;32m      1\u001b[0m max_worker \u001b[39m=\u001b[39m \u001b[39m50\u001b[39m\n\u001b[1;32m      3\u001b[0m hrefs \u001b[39m=\u001b[39m []\n\u001b[0;32m----> 4\u001b[0m \u001b[39mfor\u001b[39;00m i \u001b[39min\u001b[39;00m tqdm(\u001b[39mrange\u001b[39m(\u001b[39m0\u001b[39m, \u001b[39mlen\u001b[39m(page_nums), max_worker)):\n\u001b[1;32m      5\u001b[0m     gc\u001b[39m.\u001b[39mcollect()\n\u001b[1;32m      6\u001b[0m     \u001b[39mwith\u001b[39;00m ThreadPoolExecutor(max_workers\u001b[39m=\u001b[39mmax_worker) \u001b[39mas\u001b[39;00m executor:\n",
      "\u001b[0;31mNameError\u001b[0m: name 'page_nums' is not defined"
     ]
    }
   ],
   "source": [
    "max_worker = 50\n",
    "\n",
    "hrefs = []\n",
    "for i in tqdm(range(0, len(page_nums), max_worker)):\n",
    "    gc.collect()\n",
    "    with ThreadPoolExecutor(max_workers=max_worker) as executor:\n",
    "        futures = {executor.submit(crawl, t): t for t in page_nums[i: i + max_worker]}\n",
    "\n",
    "    for future in as_completed(futures):\n",
    "        future.result()\n",
    "\n",
    "hrefs_unique = list(set(hrefs))\n",
    "print(f'Num. of unique links: {len(hrefs_unique)}')\n",
    "with open(f'bikesrepublic-links.json', 'a') as f:\n",
    "    json.dump(hrefs_unique, f)"
   ]
  },
  {
   "cell_type": "markdown",
   "metadata": {},
   "source": [
    "### 3.0 Get content from articles"
   ]
  },
  {
   "cell_type": "code",
   "execution_count": 4,
   "metadata": {},
   "outputs": [
    {
     "name": "stdout",
     "output_type": "stream",
     "text": [
      "Num. of articles to scrape: 6974\n"
     ]
    }
   ],
   "source": [
    "# load articles that we need to scrape\n",
    "articles = []\n",
    "with open(f'bikesrepublic-links.json') as fopen:\n",
    "    article_links = json.load(fopen)\n",
    "articles.extend(article_links)\n",
    "\n",
    "print(f\"Num. of articles to scrape: {len(articles)}\")"
   ]
  },
  {
   "cell_type": "code",
   "execution_count": 5,
   "metadata": {},
   "outputs": [
    {
     "data": {
      "text/plain": [
       "['https://www.bikesrepublic.com/featured/gallery-ducati-werideasone-malaysian-leg-kicks-off-in-style/',\n",
       " 'https://www.bikesrepublic.com/features/outings/shell-cup-round-3-japan-dominates-malaysia-surprises/',\n",
       " 'https://www.bikesrepublic.com/news/bulletin/video-samsung-smart-windshield-for-motorcycles/',\n",
       " 'https://www.bikesrepublic.com/featured/10-reasons-you-should-attend-california-superbike-school-malaysia/',\n",
       " 'https://www.bikesrepublic.com/news/bulletin/rieju-rs3-125-nkd-introduced-to-european-market/',\n",
       " 'https://www.bikesrepublic.com/featured/motogp-maverick-vinales-signs-two-year-deal-with-yamaha/',\n",
       " 'https://www.bikesrepublic.com/featured/exclusive-tyre-knowledge-sharing-session-at-pirelli-tyre-seminar/',\n",
       " 'https://www.bikesrepublic.com/featured/ktm-malaysia-set-rock-malaysian-motogp-2017/',\n",
       " 'https://www.bikesrepublic.com/featured/toc-automotive-college-launches-superbike-technician-course/',\n",
       " 'https://www.bikesrepublic.com/featured/the-zeppelin-will-remain-as-a-concept-motorcycle-tvs-motor-company/']"
      ]
     },
     "execution_count": 5,
     "metadata": {},
     "output_type": "execute_result"
    }
   ],
   "source": [
    "articles[:10]"
   ]
  },
  {
   "cell_type": "code",
   "execution_count": 11,
   "metadata": {},
   "outputs": [],
   "source": [
    "def crawl_article(url):\n",
    "    while True:\n",
    "        try:\n",
    "            response = requests.get(url, cookies=cookies, headers=headers)\n",
    "            break\n",
    "        except Exception as e:\n",
    "            print(e)\n",
    "            time.sleep(1.0)\n",
    "\n",
    "    soup = BeautifulSoup(response.text, \"lxml\")\n",
    "\n",
    "    try:\n",
    "        headline = soup.find('h1', class_=\"entry-title\").text\n",
    "        words = soup.find('div', attrs = {\"class\":\"td-post-content\"}) # post-body entry-content\n",
    "        content = words.text\n",
    "\n",
    "    except Exception as e:\n",
    "        print('error in link:'+ url)\n",
    "        print(e)\n",
    "        return None\n",
    "\n",
    "    data = {'url': url, 'headline': headline, 'content': content}\n",
    "    return data"
   ]
  },
  {
   "cell_type": "code",
   "execution_count": 13,
   "metadata": {},
   "outputs": [
    {
     "data": {
      "application/vnd.jupyter.widget-view+json": {
       "model_id": "2efe0eec1bd04b7abc9ce0769b842b4b",
       "version_major": 2,
       "version_minor": 0
      },
      "text/plain": [
       "  0%|          | 0/140 [00:00<?, ?it/s]"
      ]
     },
     "metadata": {},
     "output_type": "display_data"
    },
    {
     "name": "stdout",
     "output_type": "stream",
     "text": [
      "error in link:https://www.bikesrepublic.com/news/bulletin/216842/\n",
      "'NoneType' object has no attribute 'text'\n",
      "error in link:https://www.bikesrepublic.com/news/bulletin/198356/\n",
      "'NoneType' object has no attribute 'text'\n",
      "error in link:https://www.bikesrepublic.com/news/bulletin/217499/\n",
      "'NoneType' object has no attribute 'text'\n",
      "error in link:https://www.bikesrepublic.com/news/bulletin/215235/\n",
      "'NoneType' object has no attribute 'text'\n",
      "error in link:https://www.bikesrepublic.com/featured/indian-ftr1200-custom-will-go-production/\n",
      "'NoneType' object has no attribute 'text'\n",
      "error in link:https://www.bikesrepublic.com/featured/reviewed-ktm-duke-200-and-rc200-the-fun-loving-siblings/\n",
      "'NoneType' object has no attribute 'text'\n",
      "error in link:https://www.bikesrepublic.com/features/geared-up/first-malaysian-superbikes-time-trial-2014/\n",
      "'NoneType' object has no attribute 'text'\n",
      "error in link:https://www.bikesrepublic.com/featured/2021-ktm-250-390-adventure-launched-in-malaysia-from-rm21500/\n",
      "'NoneType' object has no attribute 'text'\n",
      "error in link:https://www.bikesrepublic.com/featured/demak-shuts-down-what-could-have-happened-to-this-promising-malaysian-motorcycle-builder/\n",
      "'NoneType' object has no attribute 'text'\n",
      "error in link:https://www.bikesrepublic.com/featured/hog-pj-conducts-safe-rider-skills-program/\n",
      "'NoneType' object has no attribute 'text'\n",
      "error in link:https://www.bikesrepublic.com/featured/building-motorcycle-model-kits-a-great-hobby-for-the-bike-nut/\n",
      "'NoneType' object has no attribute 'text'\n",
      "error in link:https://www.bikesrepublic.com/news/bulletin/harley-davidson-kuala-lumpur-organises-sahur-ride/\n",
      "'NoneType' object has no attribute 'text'\n",
      "error in link:https://www.bikesrepublic.com/featured/lexmoto-lxs-125-lands-in-the-uk-under-tail-exhaust-lives-on/\n",
      "'NoneType' object has no attribute 'text'\n",
      "error in link:https://www.bikesrepublic.com/featured/spy-shot-2023-triumph-street-triple-gets-new-ohlins-front-fork/\n",
      "'NoneType' object has no attribute 'text'\n",
      "error in link:https://www.bikesrepublic.com/news/bulletin/199146/\n",
      "'NoneType' object has no attribute 'text'\n"
     ]
    }
   ],
   "source": [
    "max_worker = 50\n",
    "\n",
    "for i in tqdm(range(0, len(articles), max_worker)):\n",
    "    gc.collect()\n",
    "    with ThreadPoolExecutor(max_workers=max_worker) as executor:\n",
    "        futures = {executor.submit(crawl_article, t): t for t in articles[i: i + max_worker]}\n",
    "\n",
    "    for future in as_completed(futures):\n",
    "        result = future.result()\n",
    "        if result:\n",
    "            with open(f'bikesrepublic-scraped-data.jsonl', 'a') as final:\n",
    "                json.dump(result, final)\n",
    "                final.write('\\n')"
   ]
  },
  {
   "cell_type": "code",
   "execution_count": 14,
   "metadata": {},
   "outputs": [
    {
     "name": "stdout",
     "output_type": "stream",
     "text": [
      "Num. of rows in dataframe: 6959\n",
      "Num. of webpages with no content: Empty DataFrame\n",
      "Columns: [url, headline, content]\n",
      "Index: []\n"
     ]
    },
    {
     "data": {
      "text/html": [
       "<div>\n",
       "<style scoped>\n",
       "    .dataframe tbody tr th:only-of-type {\n",
       "        vertical-align: middle;\n",
       "    }\n",
       "\n",
       "    .dataframe tbody tr th {\n",
       "        vertical-align: top;\n",
       "    }\n",
       "\n",
       "    .dataframe thead th {\n",
       "        text-align: right;\n",
       "    }\n",
       "</style>\n",
       "<table border=\"1\" class=\"dataframe\">\n",
       "  <thead>\n",
       "    <tr style=\"text-align: right;\">\n",
       "      <th></th>\n",
       "      <th>url</th>\n",
       "      <th>headline</th>\n",
       "      <th>content</th>\n",
       "    </tr>\n",
       "  </thead>\n",
       "  <tbody>\n",
       "  </tbody>\n",
       "</table>\n",
       "</div>"
      ],
      "text/plain": [
       "Empty DataFrame\n",
       "Columns: [url, headline, content]\n",
       "Index: []"
      ]
     },
     "execution_count": 14,
     "metadata": {},
     "output_type": "execute_result"
    }
   ],
   "source": [
    "final_test = pd.read_json('bikesrepublic-scraped-data.jsonl', lines=True)\n",
    "print(f\"Num. of rows in dataframe: {len(final_test)}\")\n",
    "\n",
    "# check if there's any articles with no content\n",
    "no_content = final_test[final_test['content'] == \"\"]\n",
    "print(f\"Num. of webpages with no content: {no_content}\")\n",
    "no_content.head(3)"
   ]
  },
  {
   "cell_type": "markdown",
   "metadata": {},
   "source": [
    "For some reason, barring the urls where it's just a number, the other urls are consistent and have text in them. Therefore, we'll manually add them below."
   ]
  },
  {
   "cell_type": "code",
   "execution_count": 16,
   "metadata": {},
   "outputs": [],
   "source": [
    "list_remaining_urls = [\n",
    "    'https://www.bikesrepublic.com/featured/indian-ftr1200-custom-will-go-production/',\n",
    "    'https://www.bikesrepublic.com/featured/reviewed-ktm-duke-200-and-rc200-the-fun-loving-siblings/',\n",
    "    'https://www.bikesrepublic.com/features/geared-up/first-malaysian-superbikes-time-trial-2014/',\n",
    "    'https://www.bikesrepublic.com/featured/2021-ktm-250-390-adventure-launched-in-malaysia-from-rm21500/',\n",
    "    'https://www.bikesrepublic.com/featured/demak-shuts-down-what-could-have-happened-to-this-promising-malaysian-motorcycle-builder/',\n",
    "    'https://www.bikesrepublic.com/featured/hog-pj-conducts-safe-rider-skills-program/',\n",
    "    'https://www.bikesrepublic.com/featured/building-motorcycle-model-kits-a-great-hobby-for-the-bike-nut/',\n",
    "    'https://www.bikesrepublic.com/news/bulletin/harley-davidson-kuala-lumpur-organises-sahur-ride/',\n",
    "    \"https://www.bikesrepublic.com/featured/lexmoto-lxs-125-lands-in-the-uk-under-tail-exhaust-lives-on/\",\n",
    "    \"https://www.bikesrepublic.com/featured/spy-shot-2023-triumph-street-triple-gets-new-ohlins-front-fork/\"\n",
    "]"
   ]
  },
  {
   "cell_type": "code",
   "execution_count": 18,
   "metadata": {},
   "outputs": [],
   "source": [
    "for i in list_remaining_urls:\n",
    "    data = crawl_article(i)\n",
    "    with open(f'bikesrepublic-scraped-data-fixed.jsonl', 'a') as final:\n",
    "        json.dump(result, final)\n",
    "        final.write('\\n')"
   ]
  },
  {
   "cell_type": "code",
   "execution_count": 19,
   "metadata": {},
   "outputs": [
    {
     "name": "stdout",
     "output_type": "stream",
     "text": [
      "Num. of rows in dataframe: 6969\n",
      "Num. of webpages with no content: Empty DataFrame\n",
      "Columns: [url, headline, content]\n",
      "Index: []\n"
     ]
    },
    {
     "data": {
      "text/html": [
       "<div>\n",
       "<style scoped>\n",
       "    .dataframe tbody tr th:only-of-type {\n",
       "        vertical-align: middle;\n",
       "    }\n",
       "\n",
       "    .dataframe tbody tr th {\n",
       "        vertical-align: top;\n",
       "    }\n",
       "\n",
       "    .dataframe thead th {\n",
       "        text-align: right;\n",
       "    }\n",
       "</style>\n",
       "<table border=\"1\" class=\"dataframe\">\n",
       "  <thead>\n",
       "    <tr style=\"text-align: right;\">\n",
       "      <th></th>\n",
       "      <th>url</th>\n",
       "      <th>headline</th>\n",
       "      <th>content</th>\n",
       "    </tr>\n",
       "  </thead>\n",
       "  <tbody>\n",
       "  </tbody>\n",
       "</table>\n",
       "</div>"
      ],
      "text/plain": [
       "Empty DataFrame\n",
       "Columns: [url, headline, content]\n",
       "Index: []"
      ]
     },
     "execution_count": 19,
     "metadata": {},
     "output_type": "execute_result"
    }
   ],
   "source": [
    "final_test = pd.read_json('bikesrepublic-scraped-data-fixed.jsonl', lines=True)\n",
    "print(f\"Num. of rows in dataframe: {len(final_test)}\")\n",
    "\n",
    "# check if there's any articles with no content\n",
    "no_content = final_test[final_test['content'] == \"\"]\n",
    "print(f\"Num. of webpages with no content: {no_content}\")\n",
    "no_content.head(3)"
   ]
  },
  {
   "cell_type": "code",
   "execution_count": 20,
   "metadata": {},
   "outputs": [
    {
     "data": {
      "text/html": [
       "<div>\n",
       "<style scoped>\n",
       "    .dataframe tbody tr th:only-of-type {\n",
       "        vertical-align: middle;\n",
       "    }\n",
       "\n",
       "    .dataframe tbody tr th {\n",
       "        vertical-align: top;\n",
       "    }\n",
       "\n",
       "    .dataframe thead th {\n",
       "        text-align: right;\n",
       "    }\n",
       "</style>\n",
       "<table border=\"1\" class=\"dataframe\">\n",
       "  <thead>\n",
       "    <tr style=\"text-align: right;\">\n",
       "      <th></th>\n",
       "      <th>url</th>\n",
       "      <th>headline</th>\n",
       "      <th>content</th>\n",
       "    </tr>\n",
       "  </thead>\n",
       "  <tbody>\n",
       "    <tr>\n",
       "      <th>0</th>\n",
       "      <td>https://www.bikesrepublic.com/featured/motogp-...</td>\n",
       "      <td>MotoGP: Marc Marquez back on a bike, poised fo...</td>\n",
       "      <td>\\n\\nInjured MotoGP star Marc Marquez is back o...</td>\n",
       "    </tr>\n",
       "    <tr>\n",
       "      <th>1</th>\n",
       "      <td>https://www.bikesrepublic.com/featured/ducati-...</td>\n",
       "      <td>Ducati Desmosedici GP17 – A Closer Look</td>\n",
       "      <td>\\n\\n\\n\\nThe latest Ducati Desmo GP17 is one of...</td>\n",
       "    </tr>\n",
       "    <tr>\n",
       "      <th>2</th>\n",
       "      <td>https://www.bikesrepublic.com/featured/2020-kt...</td>\n",
       "      <td>2020 KTM 890 Duke R Also Appears at EICMA 2019</td>\n",
       "      <td>\\n2020 KTM 890 Duke R\\n\\n\\nThe 2020 KTM 890 Du...</td>\n",
       "    </tr>\n",
       "  </tbody>\n",
       "</table>\n",
       "</div>"
      ],
      "text/plain": [
       "                                                 url  \\\n",
       "0  https://www.bikesrepublic.com/featured/motogp-...   \n",
       "1  https://www.bikesrepublic.com/featured/ducati-...   \n",
       "2  https://www.bikesrepublic.com/featured/2020-kt...   \n",
       "\n",
       "                                            headline  \\\n",
       "0  MotoGP: Marc Marquez back on a bike, poised fo...   \n",
       "1            Ducati Desmosedici GP17 – A Closer Look   \n",
       "2     2020 KTM 890 Duke R Also Appears at EICMA 2019   \n",
       "\n",
       "                                             content  \n",
       "0  \\n\\nInjured MotoGP star Marc Marquez is back o...  \n",
       "1  \\n\\n\\n\\nThe latest Ducati Desmo GP17 is one of...  \n",
       "2  \\n2020 KTM 890 Duke R\\n\\n\\nThe 2020 KTM 890 Du...  "
      ]
     },
     "execution_count": 20,
     "metadata": {},
     "output_type": "execute_result"
    }
   ],
   "source": [
    "final_test.head(3)"
   ]
  }
 ],
 "metadata": {
  "kernelspec": {
   "display_name": "base",
   "language": "python",
   "name": "python3"
  },
  "language_info": {
   "codemirror_mode": {
    "name": "ipython",
    "version": 3
   },
   "file_extension": ".py",
   "mimetype": "text/x-python",
   "name": "python",
   "nbconvert_exporter": "python",
   "pygments_lexer": "ipython3",
   "version": "3.9.12"
  },
  "orig_nbformat": 4
 },
 "nbformat": 4,
 "nbformat_minor": 2
}
