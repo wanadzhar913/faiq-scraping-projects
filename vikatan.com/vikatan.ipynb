{
 "cells": [
  {
   "cell_type": "code",
   "execution_count": 25,
   "metadata": {},
   "outputs": [],
   "source": [
    "# !pip install requests bs4 tqdm pandas lxml ipywidgets"
   ]
  },
  {
   "cell_type": "code",
   "execution_count": 3,
   "metadata": {},
   "outputs": [],
   "source": [
    "import pandas as pd\n",
    "import json\n",
    "\n",
    "import requests\n",
    "from bs4 import BeautifulSoup\n",
    "\n",
    "import gc\n",
    "import time\n",
    "from tqdm.notebook import tqdm\n",
    "from concurrent.futures import ThreadPoolExecutor, as_completed"
   ]
  },
  {
   "cell_type": "code",
   "execution_count": 4,
   "metadata": {},
   "outputs": [],
   "source": [
    "headers = {\n",
    "    'sec-ch-ua': '\"Chromium\";v=\"118\", \"Google Chrome\";v=\"118\", \"Not=A?Brand\";v=\"99\"',\n",
    "    'Referer': 'https://www.vikatan.com/topics/malaysia',\n",
    "    'sec-ch-ua-mobile': '?0',\n",
    "    'User-Agent': 'Mozilla/5.0 (Windows NT 10.0; Win64; x64) AppleWebKit/537.36 (KHTML, like Gecko) Chrome/118.0.0.0 Safari/537.36',\n",
    "    'sec-ch-ua-platform': '\"Windows\"',\n",
    "}"
   ]
  },
  {
   "cell_type": "markdown",
   "metadata": {},
   "source": [
    "#### **Testing**"
   ]
  },
  {
   "cell_type": "code",
   "execution_count": 10,
   "metadata": {},
   "outputs": [
    {
     "name": "stdout",
     "output_type": "stream",
     "text": [
      "<Response [200]>\n"
     ]
    }
   ],
   "source": [
    "# we can get the number of pages by toggling the offset parameter\n",
    "response = requests.get(\n",
    "    'https://www.vikatan.com/api/v1/stories?tag-slugs=malaysia&offset=54&limit=9&fields=id%2Curl',\n",
    "    headers=headers,\n",
    ")\n",
    "\n",
    "print(response)"
   ]
  },
  {
   "cell_type": "code",
   "execution_count": 11,
   "metadata": {},
   "outputs": [],
   "source": [
    "# Parse the JSON data directly from the response text\n",
    "data = response.json()"
   ]
  },
  {
   "cell_type": "code",
   "execution_count": 12,
   "metadata": {},
   "outputs": [
    {
     "data": {
      "text/plain": [
       "{'stories': [{'id': '7766d197-94c1-4cea-9fd4-60ed1dc19611',\n",
       "   'url': 'https://www.vikatan.com/government-and-politics/election/155337-our-duty-is-to-vote-pudukkottai-youth-group-traveled-from-abroad-for-elections'},\n",
       "  {'id': '5099b7e8-2e64-4110-a581-aede8e263302',\n",
       "   'url': 'https://www.vikatan.com/government-and-politics/151669-explanation-about-the-49-tamilians-who-were-rescued-from-the-malaysian-jail'},\n",
       "  {'id': 'da97d906-7f83-4b08-8880-3796f25d376d',\n",
       "   'url': 'https://www.vikatan.com/government-and-politics/150136-49-tamilians-who-were-arrested-in-malaysia-were-rescued-with-the-help-of-kanimozhi'},\n",
       "  {'id': '7239410d-b439-4af4-b0bb-11b9ed229531',\n",
       "   'url': 'https://www.vikatan.com/government-and-politics/150090-kanimozhi-take-action-to-release-49-people-who-trapped-in-malaysia'},\n",
       "  {'id': 'a7a253be-456f-4ea0-b3f5-224e8ef366bc',\n",
       "   'url': 'https://www.vikatan.com/literature/arts/148587-2-elderly-women-killed-in-freemeal-stampede-in-malaysia'},\n",
       "  {'id': '5f2c935e-b798-4425-9461-111930565b6c',\n",
       "   'url': 'https://www.vikatan.com/literature/146208-thiruvalluvar-statue-going-to-malaysia'},\n",
       "  {'id': 'ab69b8ab-920e-46bb-a2b4-a49efccc5dd4',\n",
       "   'url': 'https://www.vikatan.com/agriculture/146582-agricultural-export-success-formulas'},\n",
       "  {'id': 'f2f145d1-09aa-451c-9ba5-e399a49ad095',\n",
       "   'url': 'https://www.vikatan.com/government-and-politics/141013-mother-demanding-to-rescue-his-son-in-pattukottai'},\n",
       "  {'id': 'e82601ea-713b-449e-8fe0-4ba0a82670c5',\n",
       "   'url': 'https://www.vikatan.com/health/137859-actor-munishkanths-fitness-secret'}]}"
      ]
     },
     "execution_count": 12,
     "metadata": {},
     "output_type": "execute_result"
    }
   ],
   "source": [
    "data"
   ]
  },
  {
   "cell_type": "code",
   "execution_count": 15,
   "metadata": {},
   "outputs": [
    {
     "data": {
      "text/plain": [
       "['https://www.vikatan.com/government-and-politics/election/155337-our-duty-is-to-vote-pudukkottai-youth-group-traveled-from-abroad-for-elections',\n",
       " 'https://www.vikatan.com/government-and-politics/151669-explanation-about-the-49-tamilians-who-were-rescued-from-the-malaysian-jail',\n",
       " 'https://www.vikatan.com/government-and-politics/150136-49-tamilians-who-were-arrested-in-malaysia-were-rescued-with-the-help-of-kanimozhi',\n",
       " 'https://www.vikatan.com/government-and-politics/150090-kanimozhi-take-action-to-release-49-people-who-trapped-in-malaysia',\n",
       " 'https://www.vikatan.com/literature/arts/148587-2-elderly-women-killed-in-freemeal-stampede-in-malaysia',\n",
       " 'https://www.vikatan.com/literature/146208-thiruvalluvar-statue-going-to-malaysia',\n",
       " 'https://www.vikatan.com/agriculture/146582-agricultural-export-success-formulas',\n",
       " 'https://www.vikatan.com/government-and-politics/141013-mother-demanding-to-rescue-his-son-in-pattukottai',\n",
       " 'https://www.vikatan.com/health/137859-actor-munishkanths-fitness-secret']"
      ]
     },
     "execution_count": 15,
     "metadata": {},
     "output_type": "execute_result"
    }
   ],
   "source": [
    "urls = [story['url'] for story in data['stories']]\n",
    "urls"
   ]
  },
  {
   "cell_type": "markdown",
   "metadata": {},
   "source": [
    "**Note:** There's a lot of redundant articles! Upon inspection on the site, there's **not many articles with Malaysia tags** on the website. Sadge."
   ]
  },
  {
   "cell_type": "code",
   "execution_count": 79,
   "metadata": {},
   "outputs": [
    {
     "name": "stdout",
     "output_type": "stream",
     "text": [
      "<Response [200]>\n"
     ]
    },
    {
     "data": {
      "text/plain": [
       "['https://www.vikatan.com/crime/157573-16-year-girl-died-after-instagram-polling',\n",
       " 'https://www.vikatan.com/government-and-politics/election/155337-our-duty-is-to-vote-pudukkottai-youth-group-traveled-from-abroad-for-elections',\n",
       " 'https://www.vikatan.com/government-and-politics/151669-explanation-about-the-49-tamilians-who-were-rescued-from-the-malaysian-jail',\n",
       " 'https://www.vikatan.com/government-and-politics/150136-49-tamilians-who-were-arrested-in-malaysia-were-rescued-with-the-help-of-kanimozhi',\n",
       " 'https://www.vikatan.com/government-and-politics/150090-kanimozhi-take-action-to-release-49-people-who-trapped-in-malaysia',\n",
       " 'https://www.vikatan.com/literature/arts/148587-2-elderly-women-killed-in-freemeal-stampede-in-malaysia',\n",
       " 'https://www.vikatan.com/literature/146208-thiruvalluvar-statue-going-to-malaysia',\n",
       " 'https://www.vikatan.com/agriculture/146582-agricultural-export-success-formulas',\n",
       " 'https://www.vikatan.com/government-and-politics/141013-mother-demanding-to-rescue-his-son-in-pattukottai']"
      ]
     },
     "execution_count": 79,
     "metadata": {},
     "output_type": "execute_result"
    }
   ],
   "source": [
    "response = requests.get(\n",
    "    'https://www.vikatan.com/api/v1/stories?tag-slugs=malaysia&offset=53&limit=9&fields=id%2Curl',\n",
    "    headers=headers,\n",
    ")\n",
    "\n",
    "print(response)\n",
    "data = response.json()\n",
    "urls = [story['url'] for story in data['stories']]\n",
    "urls"
   ]
  },
  {
   "cell_type": "markdown",
   "metadata": {},
   "source": [
    "#### **Get page nums**"
   ]
  },
  {
   "cell_type": "code",
   "execution_count": 19,
   "metadata": {},
   "outputs": [
    {
     "name": "stdout",
     "output_type": "stream",
     "text": [
      "There are only has 71 pages.\n",
      "Num. of unique pages: 71\n"
     ]
    }
   ],
   "source": [
    "page_nums = []\n",
    "i = 0\n",
    "while True:\n",
    "    url = f\"https://www.vikatan.com/api/v1/stories?tag-slugs=malaysia&offset={i}&limit=9&fields=id\"\n",
    "    i += 1\n",
    "    response = requests.get(url, headers=headers)\n",
    "    if response.status_code != 200:\n",
    "        print(f\"There are only has {i-1} pages.\")\n",
    "        break\n",
    "    else:\n",
    "        soup = BeautifulSoup(response.content, 'html.parser')\n",
    "\n",
    "        # Parse the JSON data directly from the response text\n",
    "        data = response.json()\n",
    "\n",
    "        # Access the 'stories' dictionary\n",
    "        stories = data['stories']\n",
    "        \n",
    "        # offset = 2000 still returns a 200 status code.\n",
    "        # Hence, we'll break the while loop if it returns an empty list\n",
    "        if stories != []:\n",
    "            page_nums.append(url)\n",
    "        else:\n",
    "            print(f\"There are only has {i-1} pages.\")\n",
    "            break\n",
    "\n",
    "page_nums_unique = list(set(page_nums))\n",
    "print(f'Num. of unique pages: {len(page_nums_unique)}')\n",
    "with open(f'vikatan_numpages.json', 'a') as f:\n",
    "    json.dump(page_nums_unique, f)"
   ]
  },
  {
   "cell_type": "markdown",
   "metadata": {},
   "source": [
    "#### **Get urls from pagenums**"
   ]
  },
  {
   "cell_type": "code",
   "execution_count": 42,
   "metadata": {},
   "outputs": [
    {
     "name": "stdout",
     "output_type": "stream",
     "text": [
      "Num. of pages to get article links from: 71\n"
     ]
    }
   ],
   "source": [
    "page_nums = []\n",
    "with open(f'vikatan_numpages.json') as fopen:\n",
    "    links = json.load(fopen)\n",
    "page_nums.extend(links)\n",
    "\n",
    "print(f\"Num. of pages to get article links from: {len(page_nums)}\")"
   ]
  },
  {
   "cell_type": "code",
   "execution_count": 44,
   "metadata": {},
   "outputs": [],
   "source": [
    "def crawl_pagenums(url):\n",
    "    while True:\n",
    "        try:\n",
    "            response = requests.get(url + '%2Curl', headers=headers)\n",
    "            break\n",
    "        except Exception as e:\n",
    "            print(e)\n",
    "            time.sleep(1.0)\n",
    "\n",
    "    data = response.json()\n",
    "    urls = [story['url'] for story in data['stories']]\n",
    "    \n",
    "    articles_to_scrape.extend(urls)"
   ]
  },
  {
   "cell_type": "code",
   "execution_count": 45,
   "metadata": {},
   "outputs": [
    {
     "data": {
      "application/vnd.jupyter.widget-view+json": {
       "model_id": "bddd5df65c024b5fac3fbcb6153e201a",
       "version_major": 2,
       "version_minor": 0
      },
      "text/plain": [
       "  0%|          | 0/8 [00:00<?, ?it/s]"
      ]
     },
     "metadata": {},
     "output_type": "display_data"
    },
    {
     "name": "stdout",
     "output_type": "stream",
     "text": [
      "Num. of unique articles: 71\n"
     ]
    }
   ],
   "source": [
    "articles_to_scrape = []\n",
    "max_worker = 10\n",
    "\n",
    "for i in tqdm(range(0, len(page_nums), max_worker)):\n",
    "    gc.collect()\n",
    "    with ThreadPoolExecutor(max_workers=max_worker) as executor:\n",
    "        futures = {executor.submit(crawl_pagenums, t): t for t in page_nums[i: i + max_worker]}\n",
    "\n",
    "articles_unique = list(set(articles_to_scrape))\n",
    "print(f'Num. of unique articles: {len(articles_unique)}')\n",
    "with open(f'vikatan_articles.json', 'a') as f:\n",
    "    json.dump(articles_unique, f)"
   ]
  },
  {
   "cell_type": "code",
   "execution_count": 41,
   "metadata": {},
   "outputs": [
    {
     "data": {
      "text/plain": [
       "603"
      ]
     },
     "execution_count": 41,
     "metadata": {},
     "output_type": "execute_result"
    }
   ],
   "source": [
    "#bapak lah dari 603 dapat 71 je. Ada error ke. Hm.\n",
    "len(articles_to_scrape)"
   ]
  },
  {
   "cell_type": "markdown",
   "metadata": {},
   "source": [
    "#### **Get content from articles** (to edit)"
   ]
  },
  {
   "cell_type": "code",
   "execution_count": 14,
   "metadata": {},
   "outputs": [
    {
     "name": "stdout",
     "output_type": "stream",
     "text": [
      "Num. of pages to get article links from: 71\n"
     ]
    }
   ],
   "source": [
    "articles = []\n",
    "with open(f'vikatan_articles.json') as fopen:\n",
    "    links = json.load(fopen)\n",
    "articles.extend(links)\n",
    "\n",
    "print(f\"Num. of pages to get article links from: {len(articles)}\")"
   ]
  },
  {
   "cell_type": "code",
   "execution_count": 15,
   "metadata": {},
   "outputs": [
    {
     "name": "stdout",
     "output_type": "stream",
     "text": [
      "Num. of pages to get article links from: 72\n"
     ]
    }
   ],
   "source": [
    "# found some articles we missed. This is because it doesn't have the *Malaysia* tag\n",
    "articles.append('https://www.vikatan.com/literature/arts/125344-malaysia-scrapping-gst-from-june')\n",
    "print(f\"Num. of pages to get article links from: {len(articles)}\")"
   ]
  },
  {
   "cell_type": "code",
   "execution_count": 16,
   "metadata": {},
   "outputs": [
    {
     "name": "stdout",
     "output_type": "stream",
     "text": [
      "தீவிரவாத நடவடிக்கைகளைத் தூண்டும் வகையில் பேசியதால் இந்தியாவில் பிடிவாரன்ட் பிறப்பிக்கப்பட்டுள்ள இஸ்லாமிய மதபோதகர் ஜாகிர் நாயக்கை மலேசியாவில் இருந்து நாடு கடத்த முடியாது என்று மலேசிய பிரதமர் மஹாதிர் முகம்மது கூறியிருக்கிறார்.\n",
      "தீவிரவாத நடவடிக்கைகளில் தொடர்பு, வன்முறையைத் தூண்டும் வகையிலான பேச்சு போன்ற குற்றச்சாட்டுகள் காரணமாக, ஜாகிர் நாயக்குக்கு எதிராக இந்தியாவில் பிடிவாரன்ட் பிறப்பிக்கப்பட்டுள்ளது. தற்போது அவர் மலேசியாவில் நிரந்தரக் குடியுரிமை பெற்று அங்கு தங்கியுள்ளார். அவரை இந்தியாவுக்கு அனுப்பி வைக்க வேண்டும் என்று ஏற்கெனவே மத்திய அரசின் சார்பில் கோரிக்கை விடப்பட்டுள்ளது. \n",
      "தொலைக்காட்சிகளில் மதப் பிரசார நிகழ்ச்சிகளில் பங்கேற்கும் ஜாகிர் நாயக், கடந்த 2016-ம் ஆண்டு இந்தியாவிலிருந்து வெளியேறி மலேசியாவில் தஞ்சம் புகுந்தார், அங்கு அவருக்கு நிரந்தரக் குடியுரிமையை அந்நாட்டு அரசு வழங்கியுள்ளது. \n",
      "இந்நிலையில், அவரை இந்தியாவுக்கு அனுப்பி வைக்குமாறு மத்திய அரசு, கடந்த ஜனவரி மாதம் மலேசியாவிடம் கோரிக்கை விடுத்தது. இந்தியா - மலேசியா இடையே குற்றம்சாட்டப்பட்டவர்களை பரஸ்பரம் ஒப்படைக்கக்கூடிய வகையிலான ஒப்பந்தம் நடைமுறையில் இருந்து வருகிறது. \n",
      "இதற்கிடையே கோலாலம்பூரில் செய்தியாளர்களிடம் பேசிய அந்நாட்டுப் பிரதமர் மஹாதிர் முகம்மது, ``மலேசியாவில் ஜாகிர் நாயக் ஏதாவது பிரச்னையை உருவாக்காமல் இருக்கும்வரை, அவரை இந்தியாவுக்கு நாடு கடத்த முடியாது. அவருக்கு நிரந்தரக் குடியுரிமை அந்தஸ்தை மலேசிய அரசு வழங்கியுள்ளது\" என்றார்.\n",
      "இந்திய இளைஞர்களைத் தன்னுடைய தவறான மதப் பிரசாரத்தின் மூலம் கவர்ந்திழுத்து, அவர்களை தீவிரவாத நடவடிக்கைகளில் ஈடுபடுத்த ஜாகிர் நாயக் தூண்டியதாக ஏற்கெனவே குற்றம்சாட்டப்பட்டுள்ளது. ஆனால், தன் மீதான குற்றச்சாட்டை மறுத்துள்ள ஜாகிர் நாயக், அது முற்றிலும் பொய்யானது என்றும், அதில் உண்மை ஏதும் இல்லை என்றும் மறுத்துள்ளார். ஜாகிர் நாயக்கைப் பொறுத்தவரை, சர்ச்சைக்குரிய பேச்சு மற்றும் செயல்பாடுகள் காரணமாக, பல்வேறு விமர்சனங்களுக்கு ஆளாகினார். இதையடுத்து கடந்த 2010-ம் ஆண்டு ஜாகிர் நாயக், பிரிட்டனுக்குள் நுழைய அந்நாட்டு அரசு தடை விதித்தது.\n",
      "நியூயார்க் உலக வர்த்தக மையம் கடந்த 2001-ம் ஆண்டு விமானங்களைக் கொண்டு மோதி தகர்க்கப்பட்ட நிலையில், தாக்குதலுக்குக் காரணமாக விமானங்களை அல்-கொய்தா அமைப்பினர் கடத்தவில்லை என்று, 2008-ம் ஆண்டு டி.வி. நிகழ்ச்சியில் பங்கேற்றபோது ஜாகிர் நாயக் தெரிவித்து பரபரப்பை ஏற்படுத்தினார் என்பது குறிப்பிடத்தக்கது.\n"
     ]
    }
   ],
   "source": [
    "url='https://www.vikatan.com/government-and-politics/130008-we-will-not-send-zakir-naik-to-india-malaysian-pm'\n",
    "response = requests.get(url, headers=headers)\n",
    "soup = BeautifulSoup(response.text, \"lxml\")\n",
    "\n",
    "# headline = soup.find('h1', class_=\"styles-m__headline__1uXyt\").text\n",
    "# subheadline = soup.find('p', class_= \"subheadline-main styles-m__subheadline__2_IOU\").text\n",
    "\n",
    "paragraphs = soup.find_all('div', attrs = {\"class\":\"story-element story-element-text\"})\n",
    "words = [p.text for p in paragraphs]\n",
    "combined_paragraph = \"\\n\".join(words)\n",
    "print(combined_paragraph)"
   ]
  },
  {
   "cell_type": "code",
   "execution_count": 17,
   "metadata": {},
   "outputs": [],
   "source": [
    "def crawl_article(url):\n",
    "    while True:\n",
    "        try:\n",
    "            response = requests.get(url, headers=headers)\n",
    "            break\n",
    "        except Exception as e:\n",
    "            print(e)\n",
    "            time.sleep(1.0)\n",
    "\n",
    "    soup = BeautifulSoup(response.text, \"lxml\")\n",
    "\n",
    "    try:\n",
    "        headline = soup.find('h1', class_=\"styles-m__headline__1uXyt\").text\n",
    "        subheadline = soup.find('p', class_= \"subheadline-main styles-m__subheadline__2_IOU\").text\n",
    "        paragraphs = soup.find_all('div', attrs = {\"class\":\"story-element story-element-text\"})\n",
    "        words = [p.text for p in paragraphs]\n",
    "        combined_paragraph = \"\\n\".join(words)\n",
    "\n",
    "    except Exception as e:\n",
    "        print('error in link:'+ url)\n",
    "        print(e)\n",
    "        return None\n",
    "\n",
    "    data = {\n",
    "        'url': url,\n",
    "        'headline': headline,\n",
    "        'subheadline': subheadline,\n",
    "        'text': combined_paragraph\n",
    "    }\n",
    "    return data"
   ]
  },
  {
   "cell_type": "code",
   "execution_count": 18,
   "metadata": {},
   "outputs": [
    {
     "data": {
      "application/vnd.jupyter.widget-view+json": {
       "model_id": "3fb635ddd07a4724b28e19b18bbfd210",
       "version_major": 2,
       "version_minor": 0
      },
      "text/plain": [
       "  0%|          | 0/8 [00:00<?, ?it/s]"
      ]
     },
     "metadata": {},
     "output_type": "display_data"
    },
    {
     "name": "stdout",
     "output_type": "stream",
     "text": [
      "error in link:https://cinema.vikatan.com/malaysian-singer-dato-sri-siti-nurhaliza-s-exclusive-interview\n",
      "'NoneType' object has no attribute 'text'\n",
      "error in link:https://www.vikatan.com/health/this-makeup-artist-stuns-everyone-with-his-skills\n",
      "'NoneType' object has no attribute 'text'\n",
      "error in link:https://cinema.vikatan.com/music/malaysia-singer-siti-nurhaliza-interview\n",
      "'NoneType' object has no attribute 'text'\n",
      "error in link:https://cinema.vikatan.com/kollywood/actor-karunas-interview-4\n",
      "'NoneType' object has no attribute 'text'\n",
      "error in link:https://www.vikatan.com/spiritual/gods/ooty-lord-murugan-temple-like-malayia-murugan\n",
      "'NoneType' object has no attribute 'text'\n",
      "error in link:https://www.vikatan.com/agriculture/146582-agricultural-export-success-formulas\n",
      "'NoneType' object has no attribute 'text'\n",
      "error in link:https://www.vikatan.com/government-and-politics/policy/144204-malaysia-sand-import-issue-junior-vikatan\n",
      "'NoneType' object has no attribute 'text'\n"
     ]
    }
   ],
   "source": [
    "max_worker = 10\n",
    "\n",
    "for i in tqdm(range(0, len(articles), max_worker)):\n",
    "    gc.collect()\n",
    "    with ThreadPoolExecutor(max_workers=max_worker) as executor:\n",
    "        futures = {executor.submit(crawl_article, t): t for t in articles[i: i + max_worker]}\n",
    "\n",
    "    for future in as_completed(futures):\n",
    "        result = future.result()\n",
    "        if result:\n",
    "            with open(f'vikatan-my-scraped-data.jsonl', 'a') as final:\n",
    "                json.dump(result, final)\n",
    "                final.write('\\n')"
   ]
  },
  {
   "cell_type": "markdown",
   "metadata": {},
   "source": [
    "#### **Final check**"
   ]
  },
  {
   "cell_type": "markdown",
   "metadata": {},
   "source": [
    "Some articles are blocked by premium subscriptions. Sadge."
   ]
  },
  {
   "cell_type": "code",
   "execution_count": 19,
   "metadata": {},
   "outputs": [
    {
     "name": "stdout",
     "output_type": "stream",
     "text": [
      "Num. of rows in dataframe: 65\n",
      "Num. of webpages with no content: Empty DataFrame\n",
      "Columns: [url, headline, subheadline, text]\n",
      "Index: []\n"
     ]
    },
    {
     "data": {
      "text/html": [
       "<div>\n",
       "<style scoped>\n",
       "    .dataframe tbody tr th:only-of-type {\n",
       "        vertical-align: middle;\n",
       "    }\n",
       "\n",
       "    .dataframe tbody tr th {\n",
       "        vertical-align: top;\n",
       "    }\n",
       "\n",
       "    .dataframe thead th {\n",
       "        text-align: right;\n",
       "    }\n",
       "</style>\n",
       "<table border=\"1\" class=\"dataframe\">\n",
       "  <thead>\n",
       "    <tr style=\"text-align: right;\">\n",
       "      <th></th>\n",
       "      <th>url</th>\n",
       "      <th>headline</th>\n",
       "      <th>subheadline</th>\n",
       "      <th>text</th>\n",
       "    </tr>\n",
       "  </thead>\n",
       "  <tbody>\n",
       "  </tbody>\n",
       "</table>\n",
       "</div>"
      ],
      "text/plain": [
       "Empty DataFrame\n",
       "Columns: [url, headline, subheadline, text]\n",
       "Index: []"
      ]
     },
     "execution_count": 19,
     "metadata": {},
     "output_type": "execute_result"
    }
   ],
   "source": [
    "final_test = pd.read_json('vikatan-my-scraped-data.jsonl', lines=True)\n",
    "print(f\"Num. of rows in dataframe: {len(final_test)}\")\n",
    "\n",
    "# check if there's any articles with no content\n",
    "no_content = final_test[final_test['text'].isnull()]\n",
    "print(f\"Num. of webpages with no content: {no_content}\")\n",
    "no_content.head(3)"
   ]
  }
 ],
 "metadata": {
  "kernelspec": {
   "display_name": "Python 3",
   "language": "python",
   "name": "python3"
  },
  "language_info": {
   "codemirror_mode": {
    "name": "ipython",
    "version": 3
   },
   "file_extension": ".py",
   "mimetype": "text/x-python",
   "name": "python",
   "nbconvert_exporter": "python",
   "pygments_lexer": "ipython3",
   "version": "3.11.5"
  }
 },
 "nbformat": 4,
 "nbformat_minor": 2
}
