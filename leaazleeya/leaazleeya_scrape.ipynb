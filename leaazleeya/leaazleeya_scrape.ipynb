{
 "cells": [
  {
   "cell_type": "code",
   "execution_count": 3,
   "metadata": {},
   "outputs": [],
   "source": [
    "import pandas as pd\n",
    "import json\n",
    "\n",
    "import requests\n",
    "from bs4 import BeautifulSoup\n",
    "\n",
    "import gc\n",
    "import time\n",
    "from tqdm.notebook import tqdm\n",
    "from concurrent.futures import ThreadPoolExecutor, as_completed"
   ]
  },
  {
   "cell_type": "markdown",
   "metadata": {},
   "source": [
    "### 1.0 Get a list of webpages to scrape"
   ]
  },
  {
   "cell_type": "code",
   "execution_count": 3,
   "metadata": {},
   "outputs": [],
   "source": [
    "sections = [\n",
    "\"lifestyle\",\n",
    "\"beauty\",\n",
    "\"book\",\n",
    "\"resepi\"\n",
    "]\n",
    "\n",
    "headers = {'User-Agent': 'Mozilla/5.0 (Windows NT 6.1; WOW64) AppleWebKit/537.36 (KHTML, like Gecko) Chrome/56.0.2924.76 Safari/537.36'} "
   ]
  },
  {
   "cell_type": "code",
   "execution_count": 66,
   "metadata": {},
   "outputs": [],
   "source": [
    "def crawl(url):\n",
    "    while True:\n",
    "        try:\n",
    "            r = requests.get(url,headers = headers)\n",
    "            break\n",
    "        except Exception as e:\n",
    "            print(e)\n",
    "            time.sleep(1.0)\n",
    "\n",
    "    soup = BeautifulSoup(r.text, \"lxml\")\n",
    "\n",
    "    block = soup.find('div',attrs = {\"class\":\"main section\"})\n",
    "    \n",
    "    if block is None:\n",
    "        return\n",
    "\n",
    "    for link in block.find_all('h3', attrs = {\"class\":\"post-title entry-title\"}):\n",
    "        try:\n",
    "            href = link.find('a').get('href')\n",
    "            hrefs.append(href)\n",
    "        except:\n",
    "            pass"
   ]
  },
  {
   "cell_type": "markdown",
   "metadata": {},
   "source": [
    "This website links **aren't related by page numbers or have any order to them** e.g., https://www.leaazleeya.com/search/label/lifestyle?updated-max=2023-06-24T01:04:00%2B08:00&max-results=20&start=6&by-date=false is what we get when we click the `OLDER POSTS` button. That's troublesome. Instead, I'll first scrape every first page (e.g., lifestyle, beauty, etc.) for `OLDER POSTS` link (if it exists) at the end of every page, and subsequently, another `OLDER POSTS` page (until there isn't)."
   ]
  },
  {
   "cell_type": "code",
   "execution_count": 55,
   "metadata": {},
   "outputs": [
    {
     "name": "stdout",
     "output_type": "stream",
     "text": [
      "lifestyle\n",
      "beauty\n",
      "book\n",
      "resepi\n",
      "Links collected: 52\n"
     ]
    }
   ],
   "source": [
    "pages = []\n",
    "i = 0\n",
    "for t in sections:\n",
    "    print(t)\n",
    "    url = f'https://www.leaazleeya.com/search/label/{t}'\n",
    "    pages.append(url)\n",
    "    while t is not None:\n",
    "        r = requests.get(url, headers=headers)\n",
    "        soup = BeautifulSoup(r.content, \"lxml\")\n",
    "        try:\n",
    "            a = soup.find('a', attrs={'class': 'blog-pager-older-link'}).get('href')\n",
    "        except:\n",
    "            a = None\n",
    "        if a is not None:\n",
    "            url = a\n",
    "            pages.append(url)\n",
    "            i +=1\n",
    "        else:\n",
    "            break\n",
    "\n",
    "print(f'Links collected: {i}')"
   ]
  },
  {
   "cell_type": "code",
   "execution_count": 73,
   "metadata": {},
   "outputs": [
    {
     "name": "stdout",
     "output_type": "stream",
     "text": [
      "Num. of unique links: 544\n"
     ]
    }
   ],
   "source": [
    "max_worker = 10\n",
    "\n",
    "hrefs = []\n",
    "for t in pages:\n",
    "    r = requests.get(t, headers=headers)\n",
    "    soup = BeautifulSoup(r.content, \"lxml\")\n",
    "    a = soup.find_all('a')\n",
    "    a = [a_.get('href') for a_ in a if a_.get('href')]\n",
    "    \n",
    "    for href in a:\n",
    "        crawl(href)\n",
    "\n",
    "hrefs2 = list(set(hrefs))\n",
    "print(f'Num. of unique links: {len(hrefs2)}')\n",
    "with open(f'leaazleeya-link.json', 'a') as f:\n",
    "    json.dump(hrefs2, f)"
   ]
  },
  {
   "cell_type": "markdown",
   "metadata": {},
   "source": [
    "### 2.0 Get webpage content (headers, paragraphs, links, etc.)"
   ]
  },
  {
   "cell_type": "code",
   "execution_count": 94,
   "metadata": {},
   "outputs": [],
   "source": [
    "url = []\n",
    "with open(f'leaazleeya-link.json') as fopen:\n",
    "    href = json.load(fopen)\n",
    "url.extend(href)"
   ]
  },
  {
   "cell_type": "code",
   "execution_count": 95,
   "metadata": {},
   "outputs": [],
   "source": [
    "def process_url(x):\n",
    "    \n",
    "    while True:\n",
    "        try:\n",
    "            r = requests.get(x, headers=headers)\n",
    "            break\n",
    "        except Exception as e:\n",
    "            print(e)\n",
    "            time.sleep(5.0)\n",
    "    \n",
    "    soup = BeautifulSoup(r.text, \"lxml\")\n",
    "\n",
    "    try:\n",
    "        headline = soup.find('h3', class_=\"post-title entry-title\").text\n",
    "        h = soup.find('div', class_=\"post-body entry-content\") # post-body entry-content\n",
    "        content = h.text\n",
    "\n",
    "    except Exception as e:\n",
    "        print('error in link:'+ x)\n",
    "        print(e)\n",
    "        return None\n",
    "\n",
    "    data = {'url': x, 'headline': headline, 'content': content}\n",
    "    return data"
   ]
  },
  {
   "cell_type": "code",
   "execution_count": null,
   "metadata": {},
   "outputs": [],
   "source": [
    "max_worker = 20\n",
    "\n",
    "for i in tqdm(range(0, len(url), max_worker)):\n",
    "    gc.collect()\n",
    "    with ThreadPoolExecutor(max_workers=max_worker) as executor:\n",
    "        futures = {executor.submit(process_url, t): t for t in url[i: i + max_worker]}\n",
    "\n",
    "    for future in as_completed(futures):\n",
    "        result = future.result()\n",
    "        if result:\n",
    "            with open(f'leaazleeya-complete-batch.jsonl', 'a') as final:\n",
    "                json.dump(result, final)\n",
    "                final.write('\\n')"
   ]
  },
  {
   "cell_type": "code",
   "execution_count": 100,
   "metadata": {},
   "outputs": [
    {
     "name": "stdout",
     "output_type": "stream",
     "text": [
      "                                                  url  \\\n",
      "0   https://www.leaazleeya.com/2016/06/dulu-suka-m...   \n",
      "1   https://www.leaazleeya.com/2016/11/novel-siti-...   \n",
      "2   https://www.leaazleeya.com/2018/05/ikan-talapi...   \n",
      "3   https://www.leaazleeya.com/2023/05/cepat-penat...   \n",
      "4   https://www.leaazleeya.com/2017/09/review-nove...   \n",
      "5   https://www.leaazleeya.com/2015/12/aku-ingin-b...   \n",
      "6   https://www.leaazleeya.com/2016/09/tazkirah-ju...   \n",
      "7   https://www.leaazleeya.com/2018/09/yakin-cerah...   \n",
      "8   https://www.leaazleeya.com/2016/08/dapat-hadia...   \n",
      "9   https://www.leaazleeya.com/2018/05/bb-jelly-lo...   \n",
      "10  https://www.leaazleeya.com/2023/04/tena-memili...   \n",
      "11  https://www.leaazleeya.com/2014/05/lagu-time-k...   \n",
      "12  https://www.leaazleeya.com/2013/11/indah-perja...   \n",
      "13  https://www.leaazleeya.com/2021/06/tip-untuk-m...   \n",
      "14  https://www.leaazleeya.com/2016/03/solat-lah.html   \n",
      "15  https://www.leaazleeya.com/2015/02/buatmu-seor...   \n",
      "16  https://www.leaazleeya.com/2016/07/aku-yang-be...   \n",
      "17  https://www.leaazleeya.com/2017/07/the-unsung-...   \n",
      "18  https://www.leaazleeya.com/2019/05/mireina-m1-...   \n",
      "19  https://www.leaazleeya.com/2022/01/perjuangan-...   \n",
      "20  https://www.leaazleeya.com/2014/04/rendang-dag...   \n",
      "21  https://www.leaazleeya.com/2016/10/move-on-dan...   \n",
      "22  https://www.leaazleeya.com/2019/01/iviora-oxyb...   \n",
      "23  https://www.leaazleeya.com/2016/11/cipta-detik...   \n",
      "24  https://www.leaazleeya.com/2018/10/formula-100...   \n",
      "25  https://www.leaazleeya.com/2014/02/kek-coklat-...   \n",
      "26  https://www.leaazleeya.com/2018/01/jom-kurus-t...   \n",
      "27  https://www.leaazleeya.com/2017/06/resepi-sard...   \n",
      "28  https://www.leaazleeya.com/2023/05/4-best-kota...   \n",
      "29  https://www.leaazleeya.com/2018/11/review-nove...   \n",
      "30  https://www.leaazleeya.com/2016/06/shopping-ra...   \n",
      "31  https://www.leaazleeya.com/2016/05/nak-jadi-ju...   \n",
      "32  https://www.leaazleeya.com/2018/05/aktifkan-di...   \n",
      "33  https://www.leaazleeya.com/2016/05/65-gambaran...   \n",
      "34  https://www.leaazleeya.com/2020/07/revitalise-...   \n",
      "35  https://www.leaazleeya.com/2016/09/pakcik-sudi...   \n",
      "36  https://www.leaazleeya.com/2021/07/muka-nampak...   \n",
      "37  https://www.leaazleeya.com/2021/11/cara-atasi-...   \n",
      "38  https://www.leaazleeya.com/2017/06/fantech-spe...   \n",
      "39  https://www.leaazleeya.com/2016/04/layan-komik...   \n",
      "40  https://www.leaazleeya.com/2017/06/salad-telur...   \n",
      "41  https://www.leaazleeya.com/2016/04/kisah-suka-...   \n",
      "42  https://www.leaazleeya.com/2019/01/unboxing-al...   \n",
      "43  https://www.leaazleeya.com/2019/06/dashing-sem...   \n",
      "44  https://www.leaazleeya.com/2016/08/borong-boto...   \n",
      "45  https://www.leaazleeya.com/2017/04/firstime-tr...   \n",
      "46  https://www.leaazleeya.com/2020/04/review-nove...   \n",
      "47  https://www.leaazleeya.com/2014/06/kanta-kesed...   \n",
      "48  https://www.leaazleeya.com/2018/04/livecollage...   \n",
      "\n",
      "                                             headline  \\\n",
      "0                \\nDulu Suka Make Up... Sekarang???\\n   \n",
      "1        \\nNovel Siti Rosmizah Lagi Menjadi Pilihan\\n   \n",
      "2   \\nIkan Talapia Masak 3 Rasa Yang Simple Dan Mu...   \n",
      "3              \\nCepat penat? Mungkin ini puncanya!\\n   \n",
      "4        \\nReview Novel | Parut Dari Zahida Zarkasi\\n   \n",
      "5                               \\nAku Ingin Berubah\\n   \n",
      "6                                 \\nTazkirah Jumaat\\n   \n",
      "7   \\nYakin, Cerah, dan Ceria dengan 8 Manfaat Kec...   \n",
      "8               \\nDapat Hadiah Jam Tangan Submarine\\n   \n",
      "9   \\nBB Jelly Lovera | BB Cream Terbaik Untuk Kul...   \n",
      "10  \\nTENA Memilih Empat Rakyat Malaysia Aktif Ber...   \n",
      "11                        \\nLagu Time Kecik-Kecik..\\n   \n",
      "12  \\nIndah Perjalanan Yang ALLAH Ciptakan Untuknya\\n   \n",
      "13  \\nTip Untuk Mempelbagaikan Pilihan Pakaian And...   \n",
      "14                                   \\nSolat lah...\\n   \n",
      "15         \\nBuatmu Seorang Lelaki Yang Dikagumi...\\n   \n",
      "16                               \\nAku Yang Berdosa\\n   \n",
      "17    \\nThe Unsung Hero Hadiah Dari Sahabat Blogger\\n   \n",
      "18  \\nMireina M1 Luminence Serum 24K Gold Membantu...   \n",
      "19  \\nPerjuangan RichWorks 2021 - Tampil Bantu 605...   \n",
      "20                                 \\nRendang Daging\\n   \n",
      "21  \\nMove On dan Semusim Di Barzakh Menjadi Pilih...   \n",
      "22  \\nIviora Oxybright Atasi Masalah Kulit Menjadi...   \n",
      "23  \\nCipta Detik-Detik Istimewa Bersama Haruman M...   \n",
      "24  \\nFormula 10.0.6 Membersihkan Kulit Dan Liang ...   \n",
      "25                               \\nKek Coklat Moist\\n   \n",
      "26  \\nJom Kurus Tanpa Perlu Berlapar Dengan C-TriM...   \n",
      "27                    \\nResepi Sardin Sedap Meletop\\n   \n",
      "28        \\n4 Best Kota Kinabalu Hotels Recommended\\n   \n",
      "29           \\nReview Novel | #GHOST by Zura Rahman\\n   \n",
      "30                             \\nShopping Raya...??\\n   \n",
      "31                         \\nNak Jadi Jutawan Tak??\\n   \n",
      "32  \\nAktifkan Diri Anda Bersama Safi Shayla - Pak...   \n",
      "33                  \\n65 Gambaran Kehidupan Sahabat\\n   \n",
      "34  \\nRevitalise Hair Strands From Within With BiO...   \n",
      "35                   \\nPakcik Sudin vs Monster Biru\\n   \n",
      "36  \\nMuka Nampak Natural Glowing Dengan Gold Nano...   \n",
      "37  \\nCara Atasi Rambut Gugur dan Kelemumur Dengan...   \n",
      "38  \\nFantech Speaker Murah Dan Berkualiti Dari La...   \n",
      "39                               \\nLayan Komik Best\\n   \n",
      "40              \\nSalad Telur Hancur Terlebih Sedap\\n   \n",
      "41     \\nKisah Suka Duka Si Kecil Sepanjang 1 Tahun\\n   \n",
      "42                  \\nUnboxing Althea Chrismas Gift\\n   \n",
      "43  \\nDashing - Semburan Badan Deodoran Dan Wangia...   \n",
      "44                      \\nBorong Botol Susu Qhaliff\\n   \n",
      "45  \\nFirstime Try Maybelline Super BB Cushion Fre...   \n",
      "46              \\nReview Novel | Nota by Shaz Johar\\n   \n",
      "47                                \\nKanta Kesedaran\\n   \n",
      "48  \\nLiveCollagen Untuk Kulit Kekal Sihat, Anjal ...   \n",
      "\n",
      "                                              content  \n",
      "0   \\n\\n\\n\\nAssalamualaikum wbt..\\n\\n\\n\\n\\n\\n\\n\\nK...  \n",
      "1   \\n\\nAssalamualaikum wbt\\n\\n\\n\\nNovel Siti Rosm...  \n",
      "2   \\n\\nIkan Talapia Masak 3 Rasa Yang Simple Dan ...  \n",
      "3   \\nCepat penat? Mungkin ini puncanya!  |  Adaka...  \n",
      "4   \\n\\nReview Novel | Parut Dari Zahida Zarkasi |...  \n",
      "5   \\n\\n\\n\\nAssalamualaikum wbt\\n\\n\\n\\nMood apdet ...  \n",
      "6       \\n\\nAssalamualaikum wbt..\\n\\n\\n\\n\\n\\n\\n\\n\\n\\n  \n",
      "7   \\n\\nYakin, Cerah, dan Ceria dengan 8 Manfaat K...  \n",
      "8   \\n\\nAssalamualaikum wbt..\\n\\n\\n\\nDapat Hadiah ...  \n",
      "9   \\n\\nBB Jelly Lovera | BB Cream Terbaik Untuk K...  \n",
      "10  \\nTENA Memilih Empat Rakyat Malaysia Aktif Ber...  \n",
      "11  \\n\\n\\n\\nAssalamu'alaikum wbt..\\n\\n\\n\\nTerlalu ...  \n",
      "12  \\n\\n\\n\\nAssalamualaikum\\n\\n\\n\\nMunajat kepada ...  \n",
      "13  \\nTip Untuk Mempelbagaikan Pilihan Pakaian And...  \n",
      "14        \\n\\n\\n\\nAssalamualaikum..\\n\\n\\n\\n\\n\\n\\n\\n\\n  \n",
      "15  \\n\\n\\n\\nAssalamualaikum wbt..\\n\\n\\n\\n\\n\\n\\n\\n\\...  \n",
      "16  \\n\\nAssalamualaikum wbt..\\n\\n\\n\\nAku Yang Berd...  \n",
      "17  \\n\\nThe Unsung Hero Hadiah Dari Sahabat Blogge...  \n",
      "18  \\n\\nMireina M1 Luminence Serum 24K Gold Memban...  \n",
      "19  \\n\\nPerjuangan RichWorks 2021 - Tampil Bantu 6...  \n",
      "20  \\n\\n\\n\\nAssalamualaikum..\\n\\n\\n\\nPuasa dah sem...  \n",
      "21  \\n\\nAssalamualaikum wbt..\\n\\n\\n\\n\\n\\n\\n\\nMove ...  \n",
      "22  \\n\\nIviora Oxybright Atasi Masalah Kulit Menja...  \n",
      "23  \\n\\nAssalamualaikum wbt\\n\\n\\n\\n\\nCipta Detik-D...  \n",
      "24  \\n\\nFormula 10.0.6 Membersihkan Kulit Dan Lian...  \n",
      "25  \\n\\n\\n\\nAssalamualaikum..\\n\\n\\n\\nTeringin pula...  \n",
      "26  \\n\\nJom Kurus Tanpa Perlu Berlapar Dengan C-Tr...  \n",
      "27  \\n\\nSardin memang feberet aku.. Dari dulu sehi...  \n",
      "28  \\n4 Best Kota Kinabalu Hotels Recommended  |  ...  \n",
      "29  \\n\\n#GHOST by Zura Rahman  |  Fuhh tak sangka ...  \n",
      "30  \\n\\n\\n\\nAssalamualaikum wbt..\\n\\n\\n\\n\\n\\n\\n\\nS...  \n",
      "31  \\n\\n\\n\\nAssalamualaikum wbt..\\n\\n\\n\\nSalam Jum...  \n",
      "32  \\n\\nAktifkan Diri Anda Bersama Safi Shayla - P...  \n",
      "33  \\n\\n\\n\\nAssalamualaikum wbt..\\n\\n\\n\\n\\n\\n\\n\\nS...  \n",
      "34  \\n\\nRevitalise Hair Strands From Within | BiO-...  \n",
      "35  \\n\\nAssalamualaikum wbt..\\n\\n\\n\\n\\n\\n\\n\\nPakci...  \n",
      "36  \\n\\nMuka Nampak Natural Glowing Dengan Gold Na...  \n",
      "37  \\nCara Atasi Rambut Gugur dan Kelemumur Dengan...  \n",
      "38  \\n\\nFantech Speaker Murah Dan Berkualiti Dari ...  \n",
      "39  \\n\\n\\n\\nAssalamualaikum wbt...\\n\\n\\n\\nBaru aku...  \n",
      "40  \\n\\nSalad Telur Hancur Terlebih Sedap  |  Lama...  \n",
      "41  \\n\\n\\n\\nAssalamualaikum wbt...\\n\\n\\n\\n\\n\\n\\n\\n...  \n",
      "42  \\n\\nUnboxing Althea Chrismas Gift  |  Hello Re...  \n",
      "43  \\n\\nDASHING - Semburan Badan Deodoran Dan Wang...  \n",
      "44  \\n\\nAssalamualaikum wbt\\n\\n\\n\\nBorong Botol Su...  \n",
      "45  \\n\\nAssalamualaikum wbt..\\n\\n\\n\\n\\n\\n\\n\\nFirst...  \n",
      "46  \\n\\nNota by Shaz Johar  |  Lama gila rasanya t...  \n",
      "47  \\n\\n\\n\\nAssalamualaikum wbt..\\n\\n\\n\\n\\n\\n\\n\\nS...  \n",
      "48  \\n\\nLiveCollagen Untuk Kulit Kekal Sihat, Anja...  \n"
     ]
    }
   ],
   "source": [
    "test = pd.read_json('leaazleeya-complete-batch.jsonl', lines=True)\n",
    "print(test)"
   ]
  },
  {
   "cell_type": "code",
   "execution_count": 101,
   "metadata": {},
   "outputs": [
    {
     "data": {
      "text/plain": [
       "'\\n\\n\\n\\nAssalamualaikum wbt..\\n\\n\\n\\n\\n\\n\\n\\nKorang suka make up tak??? ehh aku tanye kaum hawa aje yek.. ekeke... hurmm ni nak cite ni.. Dolu-dolu masa zaman perang aku dulu, aku memang suka sangat make up ni.. Pantang keluar aje mesti kene make up cantik-cantik walaupun dah tau tak berapa nak cantik.. haha.. Fefiling cantik laaa bila dah make up tu.. hoho.. gile ahhh..!!\\n\\n\\n\\nDolu-dolu make up mau tebal 8 henci.. Foundation mesti mau yang thorrrbaeekkk punye.. Pantang ada yang buat iklan make up yang gut-gut mesti nak beli punye.. Foundation yang paling best aku guna naturactor... hoh kesan dia fuhhh mabeles... thorrrbaiikk... yang lain hareemmmm tak best..!!\\n\\n\\n\\n\\n\\nFoundation Naturactor\\n\\n\\n\\nNi la foundationnya.. Tapi dulu banyak yang tak ori.. Susah benar nak jumpe yang ori.. Yang tak ori memang hampeh la hasilnya.. Aku usaha carik yang ori sampailah jumpa.. Alhamdulillah akhirnya jumpa.. haha.. Gile ahhh sekali agik..!! Jom layan gamboo lama-lama bersawang aku..\\n\\n\\n\\n\\n\\n\\n\\n\\n\\nEhh.. Ehh.. Ni gambo kawen.. hehe.. Gambo kawen ni ter-advance tebal make up aku time ni.. Nak bukak mata pown tak larat.. Bulu mata tebal sangat.. haha..\\xa0\\n\\n\\n\\n\\n\\n\\n\\n\\n\\n\\n\\n\\n\\n\\n\\nNi la gambo lama-lama aku.. Make up seharusnya bagi aku... Tak make up tak leh kuau umah.. haha.. Lam gambo ni tak nampak sangat ekk.. Hurmm ni aje yang hado0o0o... Paling aku gile dulu contact lens.. Huh.. Macam-macam jenis aku cuba.. Macam-macam warna jugak aku dah beli... Tapi paling win di hati aku warna grey and brown... Yang lain senduuuuu,.... Tak suka..!!\\n\\n\\n\\nTapi tabiat ni berubah bila dah berkahwin.. Tambah pulak dah ada anak.. Nak make up pown dah rasa tak mampu.. Tak sempat... Tak lalu.. Semua rasa dok ada.. Last-last kasi pekena krim muka.. Bedak pastu lipstik... Kadang-kadang bedak pown tak pakai.. pakai krim muka n lipstik ajoo0o...\\xa0\\n\\n\\n\\n\\n\\nBermuka sendu di pejabat..\\n\\n\\n\\n\\n\\nPose tepi baru tak cengkung.. haha..\\n\\n\\n\\n\\n\\nDengan hero..\\n\\n\\n\\n\\n\\nHang out dengan member.. pakai lipstik aje..\\n\\n\\n\\n\\n\\nNi bila makcik dah tua.. Pakai spek beso0o..\\n\\n\\n\\nNampakkk takkkkk... Muka bosan untuk ditatap.. haha.. Korang jangan muntah yee,... Tu la beza dulu dan sekarang.. Dulu sangat-sangat rajin bermake up.. Sekarang bila dah ada anak memang tak sempat nak tengok diri sendiri.. Tu anak baru sorang ye.. Kalau 2, 3 orang tatau la lagu mana yek... Korang cam aku jugak ke??\\xa0\\n\\n\\n\\n\\n\\n\\n\\nTapi kan.. Sekarang kan zaman makin canggih... Tak make up pown masih boleh menampakkan kita make up.. ekeke.. Kasi edit aje la gambo yang tak make up tu.. Berlambak kan sekarang apps untuk make upkan gambo yang togel tak make up... Tu gambar atas nuuu.. Aku tak make up pown sebenarnya.. Guna aje apps make up terus muka bersinaarrrrrr bak kunang-kunang.. haha..!! Jangan kecam mak yee nakkk...!!\\n\\n\\n\\nKorang cam aku gak ke?? Atau korang menten make up bila dah kawen and ada anak?? - Seb bek en. somi tak kisah aku tak make up sangat noqq...!!-\\n\\n\\n\\n\\n\\n'"
      ]
     },
     "execution_count": 101,
     "metadata": {},
     "output_type": "execute_result"
    }
   ],
   "source": [
    "test['content'][0]"
   ]
  }
 ],
 "metadata": {
  "kernelspec": {
   "display_name": "base",
   "language": "python",
   "name": "python3"
  },
  "language_info": {
   "codemirror_mode": {
    "name": "ipython",
    "version": 3
   },
   "file_extension": ".py",
   "mimetype": "text/x-python",
   "name": "python",
   "nbconvert_exporter": "python",
   "pygments_lexer": "ipython3",
   "version": "3.9.12"
  },
  "orig_nbformat": 4
 },
 "nbformat": 4,
 "nbformat_minor": 2
}
